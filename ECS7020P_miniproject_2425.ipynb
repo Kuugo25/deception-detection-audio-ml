{
 "cells": [
  {
   "cell_type": "markdown",
   "metadata": {
    "id": "F8MNweX3S8b3"
   },
   "source": [
    "# Predicting Truths and Lies Using Machine Learning Modelling"
   ]
  },
  {
   "cell_type": "markdown",
   "metadata": {
    "id": "E3FNWjXMTVTB"
   },
   "source": [
    "# 1 Author"
   ]
  },
  {
   "cell_type": "markdown",
   "metadata": {
    "id": "L2Cz2EeOTYXh"
   },
   "source": [
    "**Student Name: Jason Tan**\n",
    "\n",
    "**Student Number: 210078842**"
   ]
  },
  {
   "cell_type": "markdown",
   "metadata": {
    "id": "YXbrgf6wTe9Y"
   },
   "source": [
    "## 2 Problem Formulation"
   ]
  },
  {
   "cell_type": "markdown",
   "metadata": {
    "id": "TNrGMVNEUnLT"
   },
   "source": [
    "The machine learning problem that I am hoping to solve is audio classification, specifically using various audio signal elements such as tone, pitch, and pauses to determine whether a narrated story in a 30-second audio recording is **true** or **deceptive**.\n",
    "\n",
    "This is interesting because it involves analyzing both the content of the story (linguistic) and the way the story is delivered (acoustic patterns in the audio) to infer the truthfulness of a story, making the problem multimodal. Stereotypically, deceptive speech often exhibits behavioural patterns that deviate from normal speech, such as increased cognitive load (more pauses and less fluency) and changes in tone (variety in pitch). Moreover, deception detection has significant applications in various fields, such as law enforcement, security, psychology, and even customer service. \n",
    "\n",
    "Additionally, this problem is particularly compelling because it combines the complexity of audio signal processing with the interpretability of human behavior analysis. This intrigues me especially since I have an undergraduate background in Psychology. Unlike traditional machine learning tasks where patterns may be more straightforward, deception detection relies on identifying nuanced and indirect indicators, making it both technically and intellectually stimulating. It also offers practical applications that extend beyond academic curiosity, making it an impactful area of exploration.\n",
    "\n",
    "However, several challenges are apparent when tackling this problem. For example, feature extraction from audio signals to identify meaningful patterns is much more complex than that of structured data, as modelling human speech involves acknowledging variability in accents and speaking styles. "
   ]
  },
  {
   "cell_type": "markdown",
   "metadata": {
    "id": "U1W9NzfiUntt"
   },
   "source": [
    "## 3 Methodology"
   ]
  },
  {
   "cell_type": "markdown",
   "metadata": {
    "id": "74XNa9yNUubM"
   },
   "source": [
    "Classifying audio recordings as **true** or **deceptive** includes a multitude of steps.\n",
    "\n",
    "Based on previous research and findings, the features extracted from the audio recordings will be the **temporal features** (voiced/unvoiced frame ratios), **pitch** (mean and standard deviation), and the **power** (normalised average energy per sample). The extracted features will also be standardized for consistency.\n",
    "\n",
    "1. Feature extraction:\n",
    "\n",
    "For each audio recording, power, pitch mean, pitch standard deviation, and voiced-to-unvoiced frame ratio will be extracted, split, and stored in a structured datasets for training and testing. the features will be standardized during model training as certain models like logistic regression and SVM are sensitiv to dramatic feature magnitudes.\n",
    "\n",
    "\n",
    "2. Model Selection and Training:\n",
    "\n",
    "Several models will be considered and the reasons for which will be described in the section below. The models will be trained using the extracted features from the training dataset and their corresponding labels (true story or deceptive story). The hyperparameters of each model will be optimized to avoid overfitting and maximize performance.\n",
    "\n",
    "3. Cross-Validation\n",
    "\n",
    "For each model, the dataset will be split into 5 folds while maintaining the class distribution. Each model is trained on 4 folds aand validated on the remaining fold, which should ensure robust evaluation and thus reduce bias introduced by single train-validation splits. The validation performance will also be measured.\n",
    "\n",
    "4. Evaluating Model Performance\n",
    "\n",
    "Several metrics will be measured to indicate various aspects of each model:\n",
    "- Accuracy:\n",
    "    - Measures the proportion of correct predicitons\n",
    "    - Overall model performance\n",
    "- F1 score:\n",
    "    - Mean of precision and recall\n",
    "    - Accounts for false positives and negatives\n",
    "- AUC-ROC:\n",
    "    - Model's ability to rank probabilities for binary classification\n",
    "    - Assesses the quality of probabilistic outputs\n",
    "- Confusion Matrix:\n",
    "    - Breaks down predictions into true positives, true negatives, false positives, and false negatives\n",
    "    - Highlights the errors made by the models\n",
    "- Overfitting Analysis:\n",
    "    - Training and validation metrics will be compared to detect overfitting\n",
    "\n",
    "Based on evaluation of the validation metrics, the hyperparameters of each model will be continually optimized to yield the best metrics, with validation accuracy being prioritized as the dataset will consist of balanced classes. Certain ensemble models including random forest or gradient boosting will also be trained while ensemble methods such as soft voting or stacking will be used to combine models to try and produce high-performing models.\n",
    "\n",
    "5. Final testing:\n",
    "\n",
    "After tuning, the best models will be compared chosen based on evaluation metrics and prioritizing validation accuracy, and deployed on the test dataset."
   ]
  },
  {
   "cell_type": "markdown",
   "metadata": {
    "id": "-gjStBxrUukO"
   },
   "source": [
    "## 4 Implemented ML Prediction Pipelines"
   ]
  },
  {
   "cell_type": "markdown",
   "metadata": {
    "id": "JjdJE0LwUzut"
   },
   "source": [
    "#### Overview of Machine Learning Prediction Pipelines\n",
    "\n",
    "Stages:\n",
    "1. Transformation Stage:\n",
    "- Input:\n",
    "    - Folder containing labeled 30-second long audio clips as mentioned in the dataset section (labeled_audio_samples)\n",
    "- Process:\n",
    "    - Extract numerical features from each clip in dataset into .csv files (train_features.csv & test_features.csv) with corresponding labels\n",
    "- Output:\n",
    "    - Training set csv file with audio sample file names, numerical features, and labels (train_features.csv)\n",
    "    - Testing set csv file with audio sample file names, numerical features, and labels (test_features.csv)\n",
    "\n",
    "2. Model Stage:\n",
    "- Input:\n",
    "    - Feature-transformed datasets from the transformation stage (split into training and testing subsets)\n",
    "- Process:\n",
    "    - Model training with various algorithms and classifiers, including Logistic Regression, k-Nearest Neighbors (k-NN), Suupport Vector Machines (SVM), and Decision Trees\n",
    "    - Hyperparameter tuning using GridSearchCV and adjusting values\n",
    "    - Cross-validation to assess model performance on unseen validation subsets\n",
    "- Output:\n",
    "    - Trained models\n",
    "    - Validation metrics to evaluate model performance\n",
    "\n",
    "3. Ensemble:\n",
    "- Input:\n",
    "    - Trained models\n",
    "    - Feature-transformed datasets from the transformation stage (split into training and testing subsets)\n",
    "- Process:\n",
    "    - Combine model predictions using voting.\n",
    "    - Train various ensemble models including random forest and gradient boosting\n",
    "    - Hyperparameter tuning using GridSearchCV and adjusting values\n",
    "    - Evaluate ensemble performance using cross-validation\n",
    "- Output:\n",
    "    - Final trained ensemble model\n",
    "    - Combined predictions with validation metrics for evaluation\n"
   ]
  },
  {
   "cell_type": "markdown",
   "metadata": {
    "id": "-uoe3n6HHQZN"
   },
   "source": [
    "## 4.1 Transformation Stage"
   ]
  },
  {
   "cell_type": "markdown",
   "metadata": {
    "id": "vyV-p-T0HZVd"
   },
   "source": [
    "In this stage, the 30 second clips are processed into numerical features suitable for machine learning models and are stored in external csv files. The data is split 80/20 into training set and testing set using stratified sampling to ensure class balance. The features are extracted using Librosa:\n",
    "1. Pitch:\n",
    "- Mean and standard deviation of the pitch over the audio\n",
    "- Captures variations in tone and vocal characteristics, which may correlate with stress or emotional states linked to deception\n",
    "2. Power:\n",
    "- Average signal power (normalised energy per sample)\n",
    "- Represents loudness or intensity, which may vary with speaking styles or cognitive load\n",
    "3. Temporal Features:\n",
    "- Ratio of voiced to unvoiced frames\n",
    "- Indicates speech activity patterns, such as pauses and silences, that could differ between truthful and deceptive speech\n",
    "\n",
    "These features have been chosen as they are relatively simple to derive yet informative, making them key aspects of audio signals relevant to identifying lying speech behaviour. Furthermore, they reduce the extremely high dimensionality of raw audio data, making the problem tractable for machine learning models.\n",
    "\n",
    "Key Steps:\n",
    "\n",
    "1. Input:\n",
    "- Folder contianing labelled 30-seconds long audio clips\n",
    "2. Process\n",
    "- Split data using train_test_split() into training data (80%) and testing data (20%):\n",
    "- Extract features using librosa:\n",
    "  - Calculate mean and standard deviation of pitch using librosa.pyin\n",
    "  - Compute power from the squared amplitudes of the audio waveform\n",
    "  - Derive temporal features from voiced/unvoiced frame analysi\n",
    "- Export features to external csv filess\n",
    "- Normalise the features to zero mean and unit varianc\n",
    "3. Output:\n",
    "- Structured external csv files ready for model training (train_features.csv & test_features.csv) containing extracted numerical features for each sample and corresponding labels"
   ]
  },
  {
   "cell_type": "markdown",
   "metadata": {
    "id": "5Bw0H00OHZmD"
   },
   "source": [
    "## 4.2 Model Stage"
   ]
  },
  {
   "cell_type": "markdown",
   "metadata": {
    "id": "z9anr124HbMc"
   },
   "source": [
    "This stage trains machine learning models on the extracted features and corresponding labels. The goal of this stage is to identify patterns in the features that differentiate truthful audio recordings from deceptive ones.\n",
    "\n",
    "The algorithms/models below were selected to be trained:\n",
    "- Logistic Regression\n",
    "\n",
    "Logistic Regression is a simple but powerful linear model for binary classification problems and can act as a baseline model to evaluate the performance of the more complex models. It is also well suited for smaller datasets like the current one.\n",
    "\n",
    "- Support Vector Machine (SVM)\n",
    "\n",
    "SVMs are well adapted to handle high-dimensionalitiy feature spaces and are less prone to overfitting through appropriate regularization and use of kernels. SVMs can also handle non-linearly separable data using kernels hich allow for flexible modeling of complex patterns.\n",
    "\n",
    "- Decision Tree\n",
    "\n",
    "Decision trees are highly interpretable and provide a clear representation of decision rules. They are also computationally efficient for smaller datasets and are capable of modelling non-linear relationships between features and the target variable without requiring transformations.\n",
    "\n",
    "- k-Nearest Neighbor (k-NN)\n",
    "\n",
    "k-NN does not make any assumptions about the underlying data distribution and can handel non-linear patterns effectively as it is based on the proximity of data points, making it a flexible model.\n",
    "\n",
    "Key Steps:\n",
    "1. Input:\n",
    "- Training dataset with features (train_features.csv)\n",
    "2. Process:\n",
    "- Train and validate multiple machine learning models:\n",
    "  1. Logistic Regression\n",
    "  2. Support Vector Machines (SVM)\n",
    "  3. Decision Tree\n",
    "  4. k-nearest neighbors (kNN)\n",
    "- Tune hyperparameters using GridSearchCV and manual adjustments\n",
    "- Cross-validate to assess model performance on unseen validation subsets\n",
    "- Evaluate model performance using metrics:\n",
    "    1. Accuracy\n",
    "    2. F1 score\n",
    "    3. AUC-ROC\n",
    "    4. Confusion matrix\n",
    "    5. Compare validation metrics to training metrics for overfitting analysis\n",
    "3. Output:\n",
    "- Trained models\n",
    "- Validation metrics\n"
   ]
  },
  {
   "cell_type": "markdown",
   "metadata": {
    "id": "Xl36D2nRHbYg"
   },
   "source": [
    "## 4.3 Ensemble Stage"
   ]
  },
  {
   "cell_type": "markdown",
   "metadata": {
    "id": "sLTmirg9HeTt"
   },
   "source": [
    "In this stage, ensemble models are trained and previous models are combined to improve robustness and accuracy.\n",
    "\n",
    "The ensemble models chosen to train are as follows:\n",
    "- Random Forest\n",
    "\n",
    "Random forest is an ensemble model of multiple decision trees, which reduces overfitting by averaging predictions from the decision trees and is therefore less sensitive noise and is a reliable baseline model. it is also considered to be versatile and works well on small-to-medium structured datasets and is not overly sensitive to hyperparameters.\n",
    "\n",
    "- Gradient Boosting\n",
    "\n",
    "Gradient boosting works iteratively and focuses on examples where the model made errors previously, theoretically allowing it to achieve higher accuracy. It is also more likely to capture subtle relationships or patterns between the audio features compared to logistic regression and k-NN while providing flexibility to balance variance through hyperparameters including learning rate and number of trees.\n",
    "\n",
    "The following ensemble approaches will be considered:\n",
    "- Stacking Ensemble\n",
    "\n",
    "Due to the diversity of models trained in the earlier section, stacking would be highly suitable and may integrate strengths of each model for better overall performance. This ensemble method uses a meta-model to combine the given models in an optimal way and is highly flexible.\n",
    "\n",
    "- Voting Ensemble\n",
    "\n",
    "This ensemble method will be implemented if the trained models have similar performances and works especially well when their errors are not correlated. This means that it is a good method for integrating diverse models with minimal complexity and soft voting is especially useful because the selected models and ensembles output probabilities instead of classes.\n",
    "\r",
    "Key Steps:\n",
    "1. Input:\n",
    "- Training dataset with features (train_features.csv)\n",
    "- Trained Models from the previous section\n",
    "2. Process:\n",
    "- Train and validate multiple ensemble models:\n",
    "  1. Random Forest\n",
    "  2. Gradient Boosting\n",
    "- Tune hyperparameters using GridSearchCV and manual adjustments\n",
    "- Cross-validate to assess model performance on unseen validation subsets\n",
    "- Evaluate model performance using metrics:\n",
    "    1. Accuracy\n",
    "    2. F1 score\n",
    "    3. AUC-ROC\n",
    "    4. Confusion matrix\n",
    "    5. Compare validation metrics to training metrics for overfitting analysis\n",
    "- Combine trained models with voting and stacking methods\n",
    "- Evaluate ensemble performance using the same metrics above\n",
    "3. Output:\n",
    "- Trained ensemble models\n",
    "- Validation metrics\n"
   ]
  },
  {
   "cell_type": "markdown",
   "metadata": {
    "id": "vztr1p4YUz2M"
   },
   "source": [
    "## 5 Dataset"
   ]
  },
  {
   "cell_type": "markdown",
   "metadata": {
    "id": "z5_BWD83U4qK"
   },
   "source": [
    "The dataset the models are trained on consists of audio samples recorded by 100 different students in the Queen Mary University MSc Data Science and Artificial Intelligence course. Each student was required to record 6 separate audio files of story narrations, three of which are labelled as truths and the remaining three being fabricated lies. Students with non-English first languages were requested to record 1 true and 1 false story in their respective native languages. The sample dataset used contains 50 true and 50 deceptive stories, which should be a small subset of the real unshared whole dataset. \n",
    "\n",
    "The audio recordings are trimmed into 30 second clips that start at random times throughout the recording and labeled. This provides several benefits:\n",
    "- Increases data diversity because different segments of an audio recording may contain varying content\n",
    "- Reduces overfitting because if clips always start at the same position, the modeel might overfit to patterns specific to that position rather than generalize across the entire recording\n",
    "- Helps to balance potential noise by distributing noise exposure evenly across the dataset\n",
    "- Ensures capturing key variations in speech dynamics or pauses, improving robustness.\n",
    "\n",
    "The audio clips are then processed into numerical features suitable for machine learning models and are stored in external csv files. The data is split 80/20 into training set and testing set using stratified sampling to ensure class balance.\n",
    "\n",
    "- Input:\n",
    "    - Zip file containing raw audio recordings in .wav format up to 4 minutes in length\n",
    "    - Corresponding labels: true_story or deceptive_story\n",
    "- Process:\n",
    "    - Extract and label one 30-second long audio clip per raw audio recording starting at random times to a folder\n",
    "    - Split dataset into training set and test set (80% train_set.csv/20% test_set.csv)\n",
    "    - Extract numerical features from each clip in dataset into .csv files (train_features.csv & test_features.csv) with corresponding labels\n",
    "- Output:\n",
    "    - Folder containing labeled 30-second long audio clips (labeled_audio_samples)\n",
    "    - Csv file containing audio sample file names and labels for the training set (train_set.csv)\n",
    "    - Csv file containing audio sample file names and labels for the testing set (test_set.csv)\n",
    "    - Training set csv file with audio sample file names, numerical features, and labels (train_features.csv)\n",
    "    - Testing set csv file with audio sample file names, numerical features, and labels (test_features.csv)\n",
    "\n",
    "### Dataset A: Training Dataset (train_features.csv)\n",
    "The training dataset is created by splitting the raw dataset into subsets based on parent audio files. The features are extracted after the split to eensuree no overlap between training and testing sets. The training set consists of 80% of the data and is used to train models.\n",
    "\n",
    "**Construction**\n",
    "\n",
    "1. Random Split by Parent Files:\n",
    "    - The parent audio recordings are split such that 80% are used for training\n",
    "    - Stratification ensures that the class distribution in the training set is representative of the overall dataset\n",
    "2. Columns:\n",
    "    - Power (Power)\n",
    "    - Pitch Mean (Pitch_Mean)\n",
    "    - Pitch Standard Deviation (Pitch_Std)\n",
    "    - Voiced to Unvoiced Ratio (Voiced_Ratio)\n",
    "    - Parent (original audio file i.e. file name)\n",
    "    - Dataset (train)\n",
    "    - Label (0 = deceptive story, 1 = true story)\n",
    "3. Data preparation:\n",
    "    - Features are normalized using a standard scaler\n",
    "  \n",
    "### Dataset B: Test Dataset (test_features.csv)\n",
    "The testing dataset is reserved for final model evaluation. It is created by splitting the raw dataset into subsets based on parent audio files. The features are extracted after the split to eensuree no overlap between training and testing sets. The training set consists of the remaining 20% of the data and its audio reecordings and labels are entirely unseen during training and validation.\n",
    "\n",
    "**Construction**\n",
    "\n",
    "1. Random Split by Parent Files:\n",
    "    - 20% of the parent audio files are reserved for testing\n",
    "    - Stratification ensures that the class distribution in the testing set is representative of the overall dataset\n",
    "2. Columns:\n",
    "    - Power (Power)\n",
    "    - Pitch Mean (Pitch_Mean)\n",
    "    - Pitch Standard Deviation (Pitch_Std)\n",
    "    - Voiced to Unvoiced Ratio (Voiced_Ratio)\n",
    "    - Parent (original audio file i.e. file name)\n",
    "    - Dataset (train)\n",
    "    - Label (0 = deceptive story, 1 = true story)\n",
    "3. Data preparation:\n",
    "    - Features are normalized using a standard scaler\n",
    "\n",
    "**Limitations**\n",
    "\n",
    "The testing dataset consisting of only 20 samples may lead to variance in performance metrics. Moreover, the extracted features may not fully represent the complexities of deception detection in audio compared to spectral or prosodic features. Aside from this, extracting features after splitting may result in suboptimal feature engineering due to each dataset potentially having different distributions. This may cause models to not generalize well to unseen data due to shifts in feature distributions."
   ]
  },
  {
   "cell_type": "code",
   "execution_count": 16,
   "metadata": {},
   "outputs": [],
   "source": [
    "# Importing necessary libraries for feature extraction, splitting and storage\n",
    "import os\n",
    "import librosa\n",
    "import zipfile\n",
    "import soundfile as sf\n",
    "import pandas as pd\n",
    "import random\n",
    "import numpy as np\n",
    "from tqdm import tqdm\n",
    "from sklearn.model_selection import train_test_split"
   ]
  },
  {
   "cell_type": "code",
   "execution_count": 3,
   "metadata": {},
   "outputs": [
    {
     "name": "stderr",
     "output_type": "stream",
     "text": [
      "  2%|▏         | 3/200 [00:02<02:32,  1.29it/s]"
     ]
    },
    {
     "name": "stdout",
     "output_type": "stream",
     "text": [
      "Extracted 1 labeled samples from labeled_audio_samples\\00001.wav\n",
      "No label found for file: 00001_sample1_deceptive_story.wav\n",
      "Extracted 1 labeled samples from labeled_audio_samples\\00002.wav\n",
      "No label found for file: 00002_sample1_true_story.wav\n"
     ]
    },
    {
     "name": "stderr",
     "output_type": "stream",
     "text": [
      "  4%|▎         | 7/200 [00:03<00:51,  3.76it/s]"
     ]
    },
    {
     "name": "stdout",
     "output_type": "stream",
     "text": [
      "Extracted 1 labeled samples from labeled_audio_samples\\00003.wav\n",
      "No label found for file: 00003_sample1_deceptive_story.wav\n",
      "Extracted 1 labeled samples from labeled_audio_samples\\00004.wav\n",
      "No label found for file: 00004_sample1_deceptive_story.wav\n"
     ]
    },
    {
     "name": "stderr",
     "output_type": "stream",
     "text": [
      "  6%|▌         | 11/200 [00:03<00:28,  6.68it/s]"
     ]
    },
    {
     "name": "stdout",
     "output_type": "stream",
     "text": [
      "Extracted 1 labeled samples from labeled_audio_samples\\00005.wav\n",
      "No label found for file: 00005_sample1_deceptive_story.wav\n",
      "Extracted 1 labeled samples from labeled_audio_samples\\00006.wav\n",
      "No label found for file: 00006_sample1_deceptive_story.wav\n"
     ]
    },
    {
     "name": "stderr",
     "output_type": "stream",
     "text": [
      "  6%|▋         | 13/200 [00:03<00:23,  7.97it/s]"
     ]
    },
    {
     "name": "stdout",
     "output_type": "stream",
     "text": [
      "Extracted 1 labeled samples from labeled_audio_samples\\00007.wav\n",
      "No label found for file: 00007_sample1_true_story.wav\n",
      "Extracted 1 labeled samples from labeled_audio_samples\\00008.wav\n",
      "No label found for file: 00008_sample1_deceptive_story.wav\n"
     ]
    },
    {
     "name": "stderr",
     "output_type": "stream",
     "text": [
      "  8%|▊         | 17/200 [00:03<00:17, 10.72it/s]"
     ]
    },
    {
     "name": "stdout",
     "output_type": "stream",
     "text": [
      "Extracted 1 labeled samples from labeled_audio_samples\\00009.wav\n",
      "No label found for file: 00009_sample1_deceptive_story.wav\n"
     ]
    },
    {
     "name": "stderr",
     "output_type": "stream",
     "text": [
      " 10%|▉         | 19/200 [00:04<00:18, 10.02it/s]"
     ]
    },
    {
     "name": "stdout",
     "output_type": "stream",
     "text": [
      "Extracted 1 labeled samples from labeled_audio_samples\\00010.wav\n",
      "No label found for file: 00010_sample1_true_story.wav\n"
     ]
    },
    {
     "name": "stderr",
     "output_type": "stream",
     "text": [
      " 12%|█▏        | 23/200 [00:04<00:17, 10.33it/s]"
     ]
    },
    {
     "name": "stdout",
     "output_type": "stream",
     "text": [
      "Extracted 1 labeled samples from labeled_audio_samples\\00011.wav\n",
      "No label found for file: 00011_sample1_deceptive_story.wav\n",
      "Extracted 1 labeled samples from labeled_audio_samples\\00012.wav\n",
      "No label found for file: 00012_sample1_true_story.wav\n",
      "Extracted 1 labeled samples from labeled_audio_samples\\00013.wav\n",
      "No label found for file: 00013_sample1_deceptive_story.wav\n"
     ]
    },
    {
     "name": "stderr",
     "output_type": "stream",
     "text": [
      " 14%|█▍        | 29/200 [00:04<00:13, 12.36it/s]"
     ]
    },
    {
     "name": "stdout",
     "output_type": "stream",
     "text": [
      "Extracted 1 labeled samples from labeled_audio_samples\\00014.wav\n",
      "No label found for file: 00014_sample1_true_story.wav\n",
      "Extracted 1 labeled samples from labeled_audio_samples\\00015.wav\n",
      "No label found for file: 00015_sample1_deceptive_story.wav\n"
     ]
    },
    {
     "name": "stderr",
     "output_type": "stream",
     "text": [
      " 16%|█▋        | 33/200 [00:05<00:10, 15.68it/s]"
     ]
    },
    {
     "name": "stdout",
     "output_type": "stream",
     "text": [
      "Extracted 1 labeled samples from labeled_audio_samples\\00016.wav\n",
      "No label found for file: 00016_sample1_true_story.wav\n",
      "Extracted 1 labeled samples from labeled_audio_samples\\00017.wav\n",
      "No label found for file: 00017_sample1_true_story.wav\n"
     ]
    },
    {
     "name": "stderr",
     "output_type": "stream",
     "text": [
      " 20%|█▉        | 39/200 [00:05<00:08, 18.63it/s]"
     ]
    },
    {
     "name": "stdout",
     "output_type": "stream",
     "text": [
      "Extracted 1 labeled samples from labeled_audio_samples\\00018.wav\n",
      "No label found for file: 00018_sample1_true_story.wav\n",
      "Extracted 1 labeled samples from labeled_audio_samples\\00019.wav\n",
      "No label found for file: 00019_sample1_deceptive_story.wav\n",
      "Extracted 1 labeled samples from labeled_audio_samples\\00020.wav\n",
      "No label found for file: 00020_sample1_true_story.wav\n",
      "Extracted 1 labeled samples from labeled_audio_samples\\00021.wav\n",
      "No label found for file: 00021_sample1_true_story.wav\n"
     ]
    },
    {
     "name": "stderr",
     "output_type": "stream",
     "text": [
      " 22%|██▏       | 43/200 [00:05<00:07, 20.93it/s]"
     ]
    },
    {
     "name": "stdout",
     "output_type": "stream",
     "text": [
      "Extracted 1 labeled samples from labeled_audio_samples\\00022.wav\n",
      "No label found for file: 00022_sample1_deceptive_story.wav\n",
      "Extracted 1 labeled samples from labeled_audio_samples\\00023.wav\n",
      "No label found for file: 00023_sample1_deceptive_story.wav\n"
     ]
    },
    {
     "name": "stderr",
     "output_type": "stream",
     "text": [
      " 24%|██▎       | 47/200 [00:05<00:07, 19.36it/s]"
     ]
    },
    {
     "name": "stdout",
     "output_type": "stream",
     "text": [
      "Extracted 1 labeled samples from labeled_audio_samples\\00024.wav\n",
      "No label found for file: 00024_sample1_true_story.wav\n",
      "Extracted 1 labeled samples from labeled_audio_samples\\00025.wav\n",
      "No label found for file: 00025_sample1_true_story.wav\n",
      "Extracted 1 labeled samples from labeled_audio_samples\\00026.wav\n"
     ]
    },
    {
     "name": "stderr",
     "output_type": "stream",
     "text": [
      " 27%|██▋       | 54/200 [00:06<00:07, 18.25it/s]"
     ]
    },
    {
     "name": "stdout",
     "output_type": "stream",
     "text": [
      "No label found for file: 00026_sample1_true_story.wav\n",
      "Extracted 1 labeled samples from labeled_audio_samples\\00027.wav\n",
      "No label found for file: 00027_sample1_deceptive_story.wav\n"
     ]
    },
    {
     "name": "stderr",
     "output_type": "stream",
     "text": [
      " 28%|██▊       | 56/200 [00:06<00:08, 16.06it/s]"
     ]
    },
    {
     "name": "stdout",
     "output_type": "stream",
     "text": [
      "Extracted 1 labeled samples from labeled_audio_samples\\00028.wav\n",
      "No label found for file: 00028_sample1_true_story.wav\n",
      "Extracted 1 labeled samples from labeled_audio_samples\\00029.wav\n",
      "No label found for file: 00029_sample1_true_story.wav\n"
     ]
    },
    {
     "name": "stderr",
     "output_type": "stream",
     "text": [
      " 30%|███       | 61/200 [00:06<00:09, 14.89it/s]"
     ]
    },
    {
     "name": "stdout",
     "output_type": "stream",
     "text": [
      "Extracted 1 labeled samples from labeled_audio_samples\\00030.wav\n",
      "No label found for file: 00030_sample1_true_story.wav\n",
      "Extracted 1 labeled samples from labeled_audio_samples\\00031.wav\n",
      "No label found for file: 00031_sample1_deceptive_story.wav\n"
     ]
    },
    {
     "name": "stderr",
     "output_type": "stream",
     "text": [
      " 32%|███▏      | 63/200 [00:06<00:10, 13.65it/s]"
     ]
    },
    {
     "name": "stdout",
     "output_type": "stream",
     "text": [
      "Extracted 1 labeled samples from labeled_audio_samples\\00032.wav\n",
      "No label found for file: 00032_sample1_deceptive_story.wav\n"
     ]
    },
    {
     "name": "stderr",
     "output_type": "stream",
     "text": [
      " 34%|███▎      | 67/200 [00:07<00:10, 12.89it/s]"
     ]
    },
    {
     "name": "stdout",
     "output_type": "stream",
     "text": [
      "Extracted 1 labeled samples from labeled_audio_samples\\00033.wav\n",
      "No label found for file: 00033_sample1_deceptive_story.wav\n",
      "Extracted 1 labeled samples from labeled_audio_samples\\00034.wav\n",
      "No label found for file: 00034_sample1_true_story.wav\n"
     ]
    },
    {
     "name": "stderr",
     "output_type": "stream",
     "text": [
      " 36%|███▌      | 71/200 [00:07<00:11, 11.49it/s]"
     ]
    },
    {
     "name": "stdout",
     "output_type": "stream",
     "text": [
      "Extracted 1 labeled samples from labeled_audio_samples\\00035.wav\n",
      "No label found for file: 00035_sample1_true_story.wav\n",
      "Extracted 1 labeled samples from labeled_audio_samples\\00036.wav\n",
      "No label found for file: 00036_sample1_deceptive_story.wav\n"
     ]
    },
    {
     "name": "stderr",
     "output_type": "stream",
     "text": [
      " 38%|███▊      | 75/200 [00:07<00:08, 14.27it/s]"
     ]
    },
    {
     "name": "stdout",
     "output_type": "stream",
     "text": [
      "Extracted 1 labeled samples from labeled_audio_samples\\00037.wav\n",
      "No label found for file: 00037_sample1_deceptive_story.wav\n",
      "Extracted 1 labeled samples from labeled_audio_samples\\00038.wav\n",
      "No label found for file: 00038_sample1_deceptive_story.wav\n"
     ]
    },
    {
     "name": "stderr",
     "output_type": "stream",
     "text": [
      " 38%|███▊      | 77/200 [00:08<00:11, 11.00it/s]"
     ]
    },
    {
     "name": "stdout",
     "output_type": "stream",
     "text": [
      "Extracted 1 labeled samples from labeled_audio_samples\\00039.wav\n",
      "No label found for file: 00039_sample1_deceptive_story.wav\n"
     ]
    },
    {
     "name": "stderr",
     "output_type": "stream",
     "text": [
      " 40%|████      | 81/200 [00:08<00:09, 11.92it/s]"
     ]
    },
    {
     "name": "stdout",
     "output_type": "stream",
     "text": [
      "Extracted 1 labeled samples from labeled_audio_samples\\00040.wav\n",
      "No label found for file: 00040_sample1_deceptive_story.wav\n",
      "Extracted 1 labeled samples from labeled_audio_samples\\00041.wav\n",
      "No label found for file: 00041_sample1_deceptive_story.wav\n"
     ]
    },
    {
     "name": "stderr",
     "output_type": "stream",
     "text": [
      " 42%|████▎     | 85/200 [00:08<00:08, 13.78it/s]"
     ]
    },
    {
     "name": "stdout",
     "output_type": "stream",
     "text": [
      "Extracted 1 labeled samples from labeled_audio_samples\\00042.wav\n",
      "No label found for file: 00042_sample1_true_story.wav\n",
      "Extracted 1 labeled samples from labeled_audio_samples\\00043.wav\n",
      "No label found for file: 00043_sample1_true_story.wav\n",
      "Extracted 1 labeled samples from labeled_audio_samples\\00044.wav\n",
      "No label found for file: 00044_sample1_deceptive_story.wav\n"
     ]
    },
    {
     "name": "stderr",
     "output_type": "stream",
     "text": [
      " 44%|████▍     | 89/200 [00:08<00:07, 15.59it/s]"
     ]
    },
    {
     "name": "stdout",
     "output_type": "stream",
     "text": [
      "Extracted 1 labeled samples from labeled_audio_samples\\00045.wav\n",
      "No label found for file: 00045_sample1_deceptive_story.wav\n"
     ]
    },
    {
     "name": "stderr",
     "output_type": "stream",
     "text": [
      " 46%|████▌     | 91/200 [00:09<00:08, 13.18it/s]"
     ]
    },
    {
     "name": "stdout",
     "output_type": "stream",
     "text": [
      "Extracted 1 labeled samples from labeled_audio_samples\\00046.wav\n",
      "No label found for file: 00046_sample1_deceptive_story.wav\n",
      "Extracted 1 labeled samples from labeled_audio_samples\\00047.wav\n",
      "No label found for file: 00047_sample1_true_story.wav\n"
     ]
    },
    {
     "name": "stderr",
     "output_type": "stream",
     "text": [
      " 48%|████▊     | 95/200 [00:09<00:07, 14.35it/s]"
     ]
    },
    {
     "name": "stdout",
     "output_type": "stream",
     "text": [
      "Extracted 1 labeled samples from labeled_audio_samples\\00048.wav\n",
      "No label found for file: 00048_sample1_true_story.wav\n",
      "Extracted 1 labeled samples from labeled_audio_samples\\00049.wav\n",
      "No label found for file: 00049_sample1_deceptive_story.wav\n"
     ]
    },
    {
     "name": "stderr",
     "output_type": "stream",
     "text": [
      " 50%|█████     | 101/200 [00:09<00:06, 14.86it/s]"
     ]
    },
    {
     "name": "stdout",
     "output_type": "stream",
     "text": [
      "Extracted 1 labeled samples from labeled_audio_samples\\00050.wav\n",
      "No label found for file: 00050_sample1_deceptive_story.wav\n",
      "Extracted 1 labeled samples from labeled_audio_samples\\00051.wav\n",
      "No label found for file: 00051_sample1_deceptive_story.wav\n",
      "Extracted 1 labeled samples from labeled_audio_samples\\00052.wav\n",
      "No label found for file: 00052_sample1_true_story.wav\n"
     ]
    },
    {
     "name": "stderr",
     "output_type": "stream",
     "text": [
      " 52%|█████▎    | 105/200 [00:09<00:05, 17.60it/s]"
     ]
    },
    {
     "name": "stdout",
     "output_type": "stream",
     "text": [
      "Extracted 1 labeled samples from labeled_audio_samples\\00053.wav\n",
      "No label found for file: 00053_sample1_deceptive_story.wav\n",
      "Extracted 1 labeled samples from labeled_audio_samples\\00054.wav\n",
      "No label found for file: 00054_sample1_true_story.wav\n"
     ]
    },
    {
     "name": "stderr",
     "output_type": "stream",
     "text": [
      " 56%|█████▌    | 111/200 [00:10<00:05, 16.55it/s]"
     ]
    },
    {
     "name": "stdout",
     "output_type": "stream",
     "text": [
      "Extracted 1 labeled samples from labeled_audio_samples\\00055.wav\n",
      "No label found for file: 00055_sample1_true_story.wav\n",
      "Extracted 1 labeled samples from labeled_audio_samples\\00056.wav\n",
      "No label found for file: 00056_sample1_deceptive_story.wav\n"
     ]
    },
    {
     "name": "stderr",
     "output_type": "stream",
     "text": [
      " 57%|█████▊    | 115/200 [00:10<00:04, 20.22it/s]"
     ]
    },
    {
     "name": "stdout",
     "output_type": "stream",
     "text": [
      "Extracted 1 labeled samples from labeled_audio_samples\\00057.wav\n",
      "No label found for file: 00057_sample1_true_story.wav\n",
      "Extracted 1 labeled samples from labeled_audio_samples\\00058.wav\n",
      "No label found for file: 00058_sample1_deceptive_story.wav\n"
     ]
    },
    {
     "name": "stderr",
     "output_type": "stream",
     "text": [
      " 60%|██████    | 121/200 [00:10<00:04, 19.69it/s]"
     ]
    },
    {
     "name": "stdout",
     "output_type": "stream",
     "text": [
      "Extracted 1 labeled samples from labeled_audio_samples\\00059.wav\n",
      "No label found for file: 00059_sample1_true_story.wav\n",
      "Extracted 1 labeled samples from labeled_audio_samples\\00060.wav\n",
      "No label found for file: 00060_sample1_deceptive_story.wav\n",
      "Extracted 1 labeled samples from labeled_audio_samples\\00061.wav\n",
      "No label found for file: 00061_sample1_true_story.wav\n"
     ]
    },
    {
     "name": "stderr",
     "output_type": "stream",
     "text": [
      " 62%|██████▏   | 124/200 [00:11<00:05, 14.87it/s]"
     ]
    },
    {
     "name": "stdout",
     "output_type": "stream",
     "text": [
      "Extracted 1 labeled samples from labeled_audio_samples\\00062.wav\n",
      "No label found for file: 00062_sample1_true_story.wav\n"
     ]
    },
    {
     "name": "stderr",
     "output_type": "stream",
     "text": [
      " 64%|██████▍   | 128/200 [00:11<00:05, 13.00it/s]"
     ]
    },
    {
     "name": "stdout",
     "output_type": "stream",
     "text": [
      "Extracted 1 labeled samples from labeled_audio_samples\\00063.wav\n",
      "No label found for file: 00063_sample1_true_story.wav\n",
      "Extracted 1 labeled samples from labeled_audio_samples\\00064.wav\n",
      "No label found for file: 00064_sample1_true_story.wav\n",
      "Extracted 1 labeled samples from labeled_audio_samples\\00065.wav\n",
      "No label found for file: 00065_sample1_deceptive_story.wav\n"
     ]
    },
    {
     "name": "stderr",
     "output_type": "stream",
     "text": [
      " 68%|██████▊   | 135/200 [00:11<00:04, 15.85it/s]"
     ]
    },
    {
     "name": "stdout",
     "output_type": "stream",
     "text": [
      "Extracted 1 labeled samples from labeled_audio_samples\\00066.wav\n",
      "No label found for file: 00066_sample1_true_story.wav\n",
      "Extracted 1 labeled samples from labeled_audio_samples\\00067.wav\n",
      "No label found for file: 00067_sample1_deceptive_story.wav\n",
      "Extracted 1 labeled samples from labeled_audio_samples\\00068.wav\n"
     ]
    },
    {
     "name": "stderr",
     "output_type": "stream",
     "text": [
      " 68%|██████▊   | 137/200 [00:12<00:04, 15.01it/s]"
     ]
    },
    {
     "name": "stdout",
     "output_type": "stream",
     "text": [
      "No label found for file: 00068_sample1_true_story.wav\n",
      "Extracted 1 labeled samples from labeled_audio_samples\\00069.wav\n",
      "No label found for file: 00069_sample1_deceptive_story.wav\n"
     ]
    },
    {
     "name": "stderr",
     "output_type": "stream",
     "text": [
      " 70%|███████   | 141/200 [00:12<00:03, 18.48it/s]"
     ]
    },
    {
     "name": "stdout",
     "output_type": "stream",
     "text": [
      "Extracted 1 labeled samples from labeled_audio_samples\\00070.wav\n",
      "No label found for file: 00070_sample1_deceptive_story.wav\n",
      "Extracted 1 labeled samples from labeled_audio_samples\\00071.wav\n",
      "No label found for file: 00071_sample1_deceptive_story.wav\n"
     ]
    },
    {
     "name": "stderr",
     "output_type": "stream",
     "text": [
      " 72%|███████▎  | 145/200 [00:12<00:03, 13.88it/s]"
     ]
    },
    {
     "name": "stdout",
     "output_type": "stream",
     "text": [
      "Extracted 1 labeled samples from labeled_audio_samples\\00072.wav\n",
      "No label found for file: 00072_sample1_deceptive_story.wav\n",
      "Extracted 1 labeled samples from labeled_audio_samples\\00073.wav\n",
      "No label found for file: 00073_sample1_true_story.wav\n"
     ]
    },
    {
     "name": "stderr",
     "output_type": "stream",
     "text": [
      " 74%|███████▎  | 147/200 [00:12<00:03, 13.83it/s]"
     ]
    },
    {
     "name": "stdout",
     "output_type": "stream",
     "text": [
      "Extracted 1 labeled samples from labeled_audio_samples\\00074.wav\n",
      "No label found for file: 00074_sample1_true_story.wav\n"
     ]
    },
    {
     "name": "stderr",
     "output_type": "stream",
     "text": [
      " 76%|███████▌  | 151/200 [00:13<00:03, 13.14it/s]"
     ]
    },
    {
     "name": "stdout",
     "output_type": "stream",
     "text": [
      "Extracted 1 labeled samples from labeled_audio_samples\\00075.wav\n",
      "No label found for file: 00075_sample1_true_story.wav\n",
      "Extracted 1 labeled samples from labeled_audio_samples\\00076.wav\n",
      "No label found for file: 00076_sample1_true_story.wav\n",
      "Extracted 1 labeled samples from labeled_audio_samples\\00077.wav\n",
      "No label found for file: 00077_sample1_deceptive_story.wav\n"
     ]
    },
    {
     "name": "stderr",
     "output_type": "stream",
     "text": [
      " 78%|███████▊  | 157/200 [00:13<00:02, 17.78it/s]"
     ]
    },
    {
     "name": "stdout",
     "output_type": "stream",
     "text": [
      "Extracted 1 labeled samples from labeled_audio_samples\\00078.wav\n",
      "No label found for file: 00078_sample1_true_story.wav\n",
      "Extracted 1 labeled samples from labeled_audio_samples\\00079.wav\n",
      "No label found for file: 00079_sample1_true_story.wav\n",
      "Extracted 1 labeled samples from labeled_audio_samples\\00080.wav\n",
      "No label found for file: 00080_sample1_true_story.wav\n"
     ]
    },
    {
     "name": "stderr",
     "output_type": "stream",
     "text": [
      " 80%|████████  | 161/200 [00:13<00:02, 18.26it/s]"
     ]
    },
    {
     "name": "stdout",
     "output_type": "stream",
     "text": [
      "Extracted 1 labeled samples from labeled_audio_samples\\00081.wav\n",
      "No label found for file: 00081_sample1_deceptive_story.wav\n",
      "Extracted 1 labeled samples from labeled_audio_samples\\00082.wav\n",
      "No label found for file: 00082_sample1_true_story.wav\n"
     ]
    },
    {
     "name": "stderr",
     "output_type": "stream",
     "text": [
      " 84%|████████▎ | 167/200 [00:13<00:01, 16.94it/s]"
     ]
    },
    {
     "name": "stdout",
     "output_type": "stream",
     "text": [
      "Extracted 1 labeled samples from labeled_audio_samples\\00083.wav\n",
      "No label found for file: 00083_sample1_true_story.wav\n",
      "Extracted 1 labeled samples from labeled_audio_samples\\00084.wav\n",
      "No label found for file: 00084_sample1_true_story.wav\n"
     ]
    },
    {
     "name": "stderr",
     "output_type": "stream",
     "text": [
      " 86%|████████▌ | 171/200 [00:14<00:01, 19.78it/s]"
     ]
    },
    {
     "name": "stdout",
     "output_type": "stream",
     "text": [
      "Extracted 1 labeled samples from labeled_audio_samples\\00085.wav\n",
      "No label found for file: 00085_sample1_true_story.wav\n",
      "Extracted 1 labeled samples from labeled_audio_samples\\00086.wav\n",
      "No label found for file: 00086_sample1_deceptive_story.wav\n",
      "Extracted 1 labeled samples from labeled_audio_samples\\00087.wav\n",
      "No label found for file: 00087_sample1_true_story.wav\n"
     ]
    },
    {
     "name": "stderr",
     "output_type": "stream",
     "text": [
      " 88%|████████▊ | 175/200 [00:14<00:01, 19.31it/s]"
     ]
    },
    {
     "name": "stdout",
     "output_type": "stream",
     "text": [
      "Extracted 1 labeled samples from labeled_audio_samples\\00088.wav\n",
      "No label found for file: 00088_sample1_true_story.wav\n"
     ]
    },
    {
     "name": "stderr",
     "output_type": "stream",
     "text": [
      " 90%|████████▉ | 179/200 [00:14<00:01, 13.62it/s]"
     ]
    },
    {
     "name": "stdout",
     "output_type": "stream",
     "text": [
      "Extracted 1 labeled samples from labeled_audio_samples\\00089.wav\n",
      "No label found for file: 00089_sample1_deceptive_story.wav\n",
      "Extracted 1 labeled samples from labeled_audio_samples\\00090.wav\n",
      "No label found for file: 00090_sample1_deceptive_story.wav\n"
     ]
    },
    {
     "name": "stderr",
     "output_type": "stream",
     "text": [
      " 92%|█████████▏| 183/200 [00:15<00:01, 13.57it/s]"
     ]
    },
    {
     "name": "stdout",
     "output_type": "stream",
     "text": [
      "Extracted 1 labeled samples from labeled_audio_samples\\00091.wav\n",
      "No label found for file: 00091_sample1_true_story.wav\n",
      "Extracted 1 labeled samples from labeled_audio_samples\\00092.wav\n",
      "No label found for file: 00092_sample1_true_story.wav\n"
     ]
    },
    {
     "name": "stderr",
     "output_type": "stream",
     "text": [
      " 94%|█████████▍| 189/200 [00:15<00:00, 13.71it/s]"
     ]
    },
    {
     "name": "stdout",
     "output_type": "stream",
     "text": [
      "Extracted 1 labeled samples from labeled_audio_samples\\00093.wav\n",
      "No label found for file: 00093_sample1_deceptive_story.wav\n",
      "Extracted 1 labeled samples from labeled_audio_samples\\00094.wav\n",
      "No label found for file: 00094_sample1_deceptive_story.wav\n",
      "Extracted 1 labeled samples from labeled_audio_samples\\00095.wav\n",
      "No label found for file: 00095_sample1_deceptive_story.wav\n"
     ]
    },
    {
     "name": "stderr",
     "output_type": "stream",
     "text": [
      " 96%|█████████▌| 191/200 [00:15<00:00, 14.15it/s]"
     ]
    },
    {
     "name": "stdout",
     "output_type": "stream",
     "text": [
      "Extracted 1 labeled samples from labeled_audio_samples\\00096.wav\n",
      "No label found for file: 00096_sample1_deceptive_story.wav\n"
     ]
    },
    {
     "name": "stderr",
     "output_type": "stream",
     "text": [
      " 98%|█████████▊| 195/200 [00:15<00:00, 12.95it/s]"
     ]
    },
    {
     "name": "stdout",
     "output_type": "stream",
     "text": [
      "Extracted 1 labeled samples from labeled_audio_samples\\00097.wav\n",
      "No label found for file: 00097_sample1_true_story.wav\n",
      "Extracted 1 labeled samples from labeled_audio_samples\\00098.wav\n",
      "No label found for file: 00098_sample1_deceptive_story.wav\n"
     ]
    },
    {
     "name": "stderr",
     "output_type": "stream",
     "text": [
      "100%|██████████| 200/200 [00:16<00:00, 12.40it/s]"
     ]
    },
    {
     "name": "stdout",
     "output_type": "stream",
     "text": [
      "Extracted 1 labeled samples from labeled_audio_samples\\00099.wav\n",
      "No label found for file: 00099_sample1_true_story.wav\n",
      "Extracted 1 labeled samples from labeled_audio_samples\\00100.wav\n",
      "No label found for file: 00100_sample1_deceptive_story.wav\n",
      "Total labeled samples extracted: 100\n"
     ]
    },
    {
     "name": "stderr",
     "output_type": "stream",
     "text": [
      "\n"
     ]
    }
   ],
   "source": [
    "# Load labels\n",
    "labels_df = pd.read_csv(\"MLEndDD_story_attributes_small.csv\")\n",
    "\n",
    "# Set directories\n",
    "zip_file_path = \"MLEndDD_stories_small.zip\"\n",
    "output_folder = \"labeled_audio_samples\"\n",
    "os.makedirs(output_folder, exist_ok=True)\n",
    "\n",
    "# Unzipping audio files\n",
    "with zipfile.ZipFile(zip_file_path, 'r') as zip_ref:\n",
    "    zip_ref.extractall(output_folder)\n",
    "\n",
    "# Function to extract and label clips\n",
    "def extract_and_label_clips(audio_file, label, output_dir, num_samples=1, sample_rate=22050):\n",
    "    try:\n",
    "        # Load the audio file\n",
    "        audio, sr = librosa.load(audio_file, sr=sample_rate)\n",
    "        duration_sec = librosa.get_duration(y=audio, sr=sr)\n",
    "\n",
    "        # If the file is shorter than 30 seconds, skip\n",
    "        if duration_sec < 30:\n",
    "            print(f\"Skipping file {audio_file} (less than 30 seconds).\")\n",
    "            return []\n",
    "\n",
    "        # Calculate the maximum valid start index for a 30-second clip\n",
    "        clip_length = 30 * sr  # 30 seconds in samples\n",
    "        max_start_index = max(0, len(audio) - clip_length)\n",
    "\n",
    "        # Generate start indices for extracting clips\n",
    "        start_indices = [random.randint(0, max_start_index)] if num_samples == 1 else \\\n",
    "            random.sample(range(0, max_start_index + 1), min(num_samples, max_start_index // clip_length + 1))\n",
    "\n",
    "        # Extract chunks and save with label in the filename\n",
    "        saved_files = []\n",
    "        for i, start_idx in enumerate(start_indices):\n",
    "            end_idx = start_idx + clip_length\n",
    "            chunk = audio[start_idx:end_idx]\n",
    "\n",
    "            # Save the extracted chunk\n",
    "            output_path = os.path.join(\n",
    "                output_dir, f\"{os.path.basename(audio_file).split('.')[0]}_sample{i + 1}_{label}.wav\"\n",
    "            )\n",
    "            sf.write(output_path, chunk, sr)\n",
    "            saved_files.append(output_path)\n",
    "\n",
    "        print(f\"Extracted {len(saved_files)} labeled samples from {audio_file}\")\n",
    "        return saved_files\n",
    "    except Exception as e:\n",
    "        print(f\"Error processing file {audio_file}: {e}\")\n",
    "        return []\n",
    "\n",
    "\n",
    "# Process and label all audio files\n",
    "all_samples = []\n",
    "\n",
    "# Matching the file with its label using the correct column names\n",
    "for root, dirs, files in os.walk(output_folder):\n",
    "    for file in tqdm(files):\n",
    "        if file.endswith((\".wav\")):\n",
    "            file_path = os.path.join(root, file)\n",
    "            \n",
    "             # Match the filename with its label\n",
    "            label_row = labels_df.loc[labels_df['filename'] == file]\n",
    "            if not label_row.empty:\n",
    "                label = label_row['Story_type'].values[0]\n",
    "                samples = extract_and_label_clips(file_path, label, output_folder)\n",
    "                for sample in samples:\n",
    "                    all_samples.append({\n",
    "                        \"sample\": sample,\n",
    "                        \"parent\": file  # The original parent audio file\n",
    "                    })\n",
    "            else:\n",
    "                print(f\"No label found for file: {file}\")\n",
    "\n",
    "print(f\"Total labeled samples extracted: {len(all_samples)}\")\n"
   ]
  },
  {
   "cell_type": "code",
   "execution_count": 5,
   "metadata": {},
   "outputs": [
    {
     "name": "stdout",
     "output_type": "stream",
     "text": [
      "Training set size: 80 clips from 80 parent files\n",
      "Test set size: 20 clips from 20 parent files\n",
      "Class Distribution in Training Set:\n",
      "label\n",
      "deceptive_story    40\n",
      "true_story         40\n",
      "Name: count, dtype: int64\n",
      "\n",
      "Class Distribution in Test Set:\n",
      "label\n",
      "true_story         10\n",
      "deceptive_story    10\n",
      "Name: count, dtype: int64\n"
     ]
    }
   ],
   "source": [
    "# Rename columns in labels_df to match the expected structure\n",
    "labels_df.rename(columns={'filename': 'parent', 'Story_type': 'label'}, inplace=True)\n",
    "\n",
    "samples_df = pd.DataFrame(all_samples)\n",
    "\n",
    "# Merge samples_df with labels_df to add class labels\n",
    "samples_df = pd.merge(samples_df, labels_df[['parent', 'label']], on='parent', how='left')\n",
    "\n",
    "# Check for missing labels\n",
    "if samples_df['label'].isnull().any():\n",
    "    print(\"Samples with missing labels:\")\n",
    "    print(samples_df[samples_df['label'].isnull()])\n",
    "    raise ValueError(\"Some samples are missing labels. Please check your labels dataset.\")\n",
    "\n",
    "# Get unique parent files\n",
    "parent_files = samples_df['parent'].unique()\n",
    "\n",
    "# Stratify based on the parent-level label\n",
    "parent_labels = samples_df.groupby('parent')['label'].first()  # Get unique labels per parent\n",
    "\n",
    "# Split parent files into training and test sets while maintaining class balance\n",
    "train_parents, test_parents = train_test_split(\n",
    "    parent_labels.index,  # Unique parent files\n",
    "    test_size=0.2,  # 20% of the data for testing\n",
    "    random_state=42,  # Reproducibility\n",
    "    stratify=parent_labels.values  # Stratify by class labels\n",
    ")\n",
    "\n",
    "# Assign sets based on parent files\n",
    "samples_df['dataset'] = 'train'\n",
    "samples_df.loc[samples_df['parent'].isin(test_parents), 'dataset'] = 'test'\n",
    "\n",
    "# Create separate DataFrames for training and testing\n",
    "train_set = samples_df[samples_df['dataset'] == 'train']\n",
    "test_set = samples_df[samples_df['dataset'] == 'test']\n",
    "\n",
    "# Output dataset sizes\n",
    "print(f\"Training set size: {len(train_set)} clips from {len(train_parents)} parent files\")\n",
    "print(f\"Test set size: {len(test_set)} clips from {len(test_parents)} parent files\")\n",
    "\n",
    "# Save to CSV for review if needed\n",
    "train_set.to_csv(\"train_set.csv\", index=False)\n",
    "test_set.to_csv(\"test_set.csv\", index=False)\n",
    "\n",
    "# Verify class balance\n",
    "print(\"Class Distribution in Training Set:\")\n",
    "print(train_set['label'].value_counts())\n",
    "\n",
    "print(\"\\nClass Distribution in Test Set:\")\n",
    "print(test_set['label'].value_counts())"
   ]
  },
  {
   "cell_type": "code",
   "execution_count": 7,
   "metadata": {},
   "outputs": [
    {
     "name": "stderr",
     "output_type": "stream",
     "text": [
      "100%|██████████| 80/80 [03:31<00:00,  2.65s/it]\n",
      "100%|██████████| 20/20 [00:53<00:00,  2.68s/it]"
     ]
    },
    {
     "name": "stdout",
     "output_type": "stream",
     "text": [
      "Training features saved successfully.\n",
      "Testing features saved successfully.\n"
     ]
    },
    {
     "name": "stderr",
     "output_type": "stream",
     "text": [
      "\n"
     ]
    }
   ],
   "source": [
    "def getPitch(x, fs, winLen=0.02):\n",
    "    # Compute frame length and hop length\n",
    "    frame_length = int(2 ** int((winLen * fs) - 1).bit_length())  # Next power of 2\n",
    "    hop_length = frame_length // 2  # 50% overlap\n",
    "\n",
    "    # Extract pitch using librosa.pyin\n",
    "    f0, voiced_flag, _ = librosa.pyin(y=x, fmin=80, fmax=450, sr=fs,\n",
    "                                      frame_length=frame_length, hop_length=hop_length)\n",
    "    return f0, voiced_flag\n",
    "\n",
    "\n",
    "def extract_features_from_dataset(dataset, scale_audio=False):\n",
    "    \"\"\"\n",
    "    Extract features (pitch mean, pitch std, power, voiced ratio) from a dataset.\n",
    "    \"\"\"\n",
    "    features = []\n",
    "    for idx, row in tqdm(dataset.iterrows(), total=dataset.shape[0]):\n",
    "        file_path = row['sample']\n",
    "        \n",
    "        # Load the audio file\n",
    "        x, fs = librosa.load(file_path, sr=None)\n",
    "        if scale_audio:\n",
    "            x = x / np.max(np.abs(x))  # Normalize audio to [-1, 1]\n",
    "        \n",
    "        # Compute pitch and voiced flags\n",
    "        f0, voiced_flag = getPitch(x, fs, winLen=0.02)\n",
    "        \n",
    "        # Compute features\n",
    "        power = np.sum(x**2) / len(x)  # Average power\n",
    "        pitch_mean = np.nanmean(f0) if np.mean(np.isnan(f0)) < 1 else 0\n",
    "        pitch_std = np.nanstd(f0) if np.mean(np.isnan(f0)) < 1 else 0\n",
    "        voiced_ratio = np.mean(voiced_flag)  # Proportion of voiced frames\n",
    "        \n",
    "        # Append features\n",
    "        features.append([power, pitch_mean, pitch_std, voiced_ratio, row['parent'], row['dataset']])\n",
    "    \n",
    "    return features\n",
    "\n",
    "\n",
    "# Perform feature extraction on the training dataset\n",
    "train_features = extract_features_from_dataset(train_set)\n",
    "test_features = extract_features_from_dataset(test_set)\n",
    "\n",
    "# Save extracted features to a DataFrame\n",
    "train_features_df = pd.DataFrame(train_features, columns=['Power', 'Pitch_Mean', 'Pitch_Std', 'Voiced_Ratio', 'Parent', 'Dataset'])\n",
    "test_features_df = pd.DataFrame(test_features, columns=['Power', 'Pitch_Mean', 'Pitch_Std', 'Voiced_Ratio', 'Parent', 'Dataset'])\n",
    "\n",
    "# Save to CSV for further use\n",
    "train_features_df.to_csv(\"train_features.csv\", index=False)\n",
    "print(\"Training features saved successfully.\")\n",
    "test_features_df.to_csv(\"test_features.csv\", index=False)\n",
    "print(\"Testing features saved successfully.\")\n"
   ]
  },
  {
   "cell_type": "code",
   "execution_count": 18,
   "metadata": {},
   "outputs": [
    {
     "name": "stdout",
     "output_type": "stream",
     "text": [
      "Labeled training features saved successfully.\n",
      "Labeled testing features saved successfully.\n"
     ]
    }
   ],
   "source": [
    "# Load train_features.csv\n",
    "train_features_df = pd.read_csv(\"train_features.csv\")\n",
    "test_features_df = pd.read_csv(\"test_features.csv\")\n",
    "\n",
    "# Ensure labels_df contains the mapping from filename to Story_type\n",
    "labels_df = pd.read_csv(\"MLEndDD_story_attributes_small.csv\")\n",
    "\n",
    "# Map Story_type to binary labels\n",
    "labels_mapping = labels_df.set_index('filename')['Story_type'].map({'true_story': 1, 'deceptive_story': 0}).to_dict()\n",
    "\n",
    "# Add labels to train_features_df\n",
    "train_features_df['Label'] = train_features_df['Parent'].map(labels_mapping)\n",
    "test_features_df['Label'] = test_features_df['Parent'].map(labels_mapping)\n",
    "\n",
    "# Save the updated DataFrame\n",
    "train_features_df.to_csv(\"train_features.csv\", index=False)\n",
    "print(\"Labeled training features saved successfully.\")\n",
    "test_features_df.to_csv(\"test_features.csv\", index=False)\n",
    "print(\"Labeled testing features saved successfully.\")"
   ]
  },
  {
   "cell_type": "markdown",
   "metadata": {
    "id": "aYp7jvGUU5Pe"
   },
   "source": [
    "## 6 Experiments and Results"
   ]
  },
  {
   "cell_type": "code",
   "execution_count": 20,
   "metadata": {},
   "outputs": [],
   "source": [
    "# Importing necessary libraries for model training and performance metrics\n",
    "from sklearn.linear_model import LogisticRegression\n",
    "from sklearn.svm import SVC\n",
    "from sklearn.tree import DecisionTreeClassifier\n",
    "from sklearn.neighbors import KNeighborsClassifier\n",
    "from sklearn.preprocessing import StandardScaler\n",
    "from sklearn.pipeline import Pipeline\n",
    "from sklearn.metrics import make_scorer, confusion_matrix, ConfusionMatrixDisplay, accuracy_score, f1_score, roc_auc_score, roc_curve\n",
    "from sklearn.model_selection import StratifiedKFold, cross_val_predict, cross_validate, GridSearchCV\n",
    "import matplotlib.pyplot as plt\n",
    "\n",
    "# Load the labeled training data\n",
    "train_features_df = pd.read_csv(\"train_features.csv\")\n",
    "\n",
    "# Prepare features (X) and labels (y)\n",
    "X_train = train_features_df[['Power', 'Pitch_Mean', 'Pitch_Std', 'Voiced_Ratio']].values\n",
    "y_train = train_features_df['Label'].values"
   ]
  },
  {
   "cell_type": "markdown",
   "metadata": {},
   "source": [
    "# Model Training"
   ]
  },
  {
   "cell_type": "markdown",
   "metadata": {
    "id": "qHsph27sU7wm"
   },
   "source": [
    "## Logistic Regression"
   ]
  },
  {
   "cell_type": "code",
   "execution_count": 149,
   "metadata": {},
   "outputs": [
    {
     "name": "stdout",
     "output_type": "stream",
     "text": [
      "Fitting 5 folds for each of 4 candidates, totalling 20 fits\n",
      "Best Hyperparameters: {'logreg__C': 10}\n",
      "Best Accuracy (Cross-Validation): 0.5\n",
      "\n",
      "Training Metrics:\n",
      "Accuracy: 0.5750\n",
      "F1 Score: 0.6222\n",
      "AUC-ROC: 0.6106\n",
      "\n",
      "Validation Metrics:\n",
      "Accuracy: 0.4625\n",
      "F1 Score: 0.5169\n",
      "AUC-ROC: 0.4744\n",
      "\n",
      "Confusion Matrix:\n",
      "[[14 26]\n",
      " [17 23]]\n"
     ]
    },
    {
     "data": {
      "image/png": "[encoded data removed]",
      "text/plain": [
       "<Figure size 640x480 with 2 Axes>"
      ]
     },
     "metadata": {},
     "output_type": "display_data"
    }
   ],
   "source": [
    "# Define the Logistic Regression Pipeline\n",
    "logreg_pipeline = Pipeline([\n",
    "    ('scaler', StandardScaler()),  # Standardize features\n",
    "    ('logreg', LogisticRegression(max_iter=1000))  # Logistic Regression model\n",
    "])\n",
    "\n",
    "# Define the Parameter Grid for Hyperparameter Tuning\n",
    "param_grid = {\n",
    "    'logreg__C': [0.1, 1, 10, 100]  # Regularization strength\n",
    "}\n",
    "\n",
    "# Perform GridSearchCV\n",
    "grid_search = GridSearchCV(\n",
    "    estimator=logreg_pipeline,\n",
    "    param_grid=param_grid,\n",
    "    cv=StratifiedKFold(n_splits=5, shuffle=True, random_state=42),\n",
    "    scoring='accuracy',  # Optimize for Accuracy\n",
    "    n_jobs=-1,\n",
    "    verbose=2 \n",
    ")\n",
    "\n",
    "grid_search.fit(X_train, y_train)\n",
    "\n",
    "# Best Model and Hyperparameters \n",
    "best_logreg_model = grid_search.best_estimator_\n",
    "print(\"Best Hyperparameters:\", grid_search.best_params_)\n",
    "print(\"Best Accuracy (Cross-Validation):\", grid_search.best_score_)\n",
    "\n",
    "# Training Performance\n",
    "y_train_pred = best_logreg_model.predict(X_train)\n",
    "y_train_prob = best_logreg_model.predict_proba(X_train)[:, 1]\n",
    "\n",
    "train_accuracy = accuracy_score(y_train, y_train_pred)\n",
    "train_f1 = f1_score(y_train, y_train_pred)\n",
    "train_auc_roc = roc_auc_score(y_train, y_train_prob)\n",
    "\n",
    "print(\"\\nTraining Metrics:\")\n",
    "print(f\"Accuracy: {train_accuracy:.4f}\")\n",
    "print(f\"F1 Score: {train_f1:.4f}\")\n",
    "print(f\"AUC-ROC: {train_auc_roc:.4f}\")\n",
    "\n",
    "# Validation Performance\n",
    "# Use cross_val_predict for validation predictions\n",
    "y_val_pred = cross_val_predict(best_logreg_model, X_train, y_train, cv=5)\n",
    "y_val_prob = cross_val_predict(best_logreg_model, X_train, y_train, cv=5, method='predict_proba')[:, 1]\n",
    "\n",
    "val_accuracy = accuracy_score(y_train, y_val_pred)\n",
    "val_f1 = f1_score(y_train, y_val_pred)\n",
    "val_auc_roc = roc_auc_score(y_train, y_val_prob)\n",
    "\n",
    "print(\"\\nValidation Metrics:\")\n",
    "print(f\"Accuracy: {val_accuracy:.4f}\")\n",
    "print(f\"F1 Score: {val_f1:.4f}\")\n",
    "print(f\"AUC-ROC: {val_auc_roc:.4f}\")\n",
    "\n",
    "# Confusion Matrix\n",
    "cm = confusion_matrix(y_train, y_val_pred)\n",
    "print(\"\\nConfusion Matrix:\")\n",
    "print(cm)\n",
    "\n",
    "# Display Confusion Matrix\n",
    "disp = ConfusionMatrixDisplay(confusion_matrix=cm, display_labels=['Deceptive', 'True'])\n",
    "disp.plot(cmap=\"Blues\")\n",
    "plt.title(\"Confusion Matrix - Logistic Regression (After Hyperparameter Tuning)\")\n",
    "plt.show()\n"
   ]
  },
  {
   "cell_type": "markdown",
   "metadata": {},
   "source": [
    "### Logistic Regression Results and Analysis\n",
    "**Hyperparameters and Cross-Validation Performance**\n",
    "\n",
    "**Best Hyperparameters: 'logreg__C': 10**\n",
    "\n",
    "This indicates that the best regularization strength (C) found by GridSearchCV is 10. A higher C value reduces regularization, allowing the model to fit more closely to the training data.\n",
    "This suggests that the model benefits from reduced regularization, potentially due to the complexity of the dataset.\n",
    "\n",
    "**Best Cross-Validation Accuracy: 0.5**\n",
    "\n",
    "This is the mean accuracy across the folds during cross-validation.\n",
    "An accuracy of 0.5 suggests the model is only marginally better than random guessing for a binary classification task. This indicates that the features might not be strongly predictive, or the dataset could be noisy or imbalanced.\n",
    "\n",
    "**Training Performance**\n",
    "\n",
    "**Training Accuracy: 0.5750**\n",
    "\n",
    "The model performs slightly better than random guessing on the training set, indicating some level of learning but not strong predictive capability.\n",
    "\n",
    "**F1 Score: 0.6222**\n",
    "\n",
    "The F1 score is higher than the accuracy because it balances precision and recall. This suggests that while the model's overall classification is modest, it may handle the positive class (True) better.\n",
    "\n",
    "**AUC-ROC: 0.6106**\n",
    "\n",
    "An AUC-ROC of 0.61 indicates the model has some ability to rank positive instances higher than negative ones, but the performance is still weak.\n",
    "\n",
    "**Validation Performance**\n",
    "\n",
    "**Validation Accuracy: 0.4625**\n",
    "\n",
    "The drop from training accuracy (0.5750) to validation accuracy (0.4625) suggests some degree of overfitting. The model is not generalizing well to unseen data.\n",
    "\n",
    "**F1 Score: 0.5169**\n",
    "\n",
    "The F1 score is lower on the validation set, aligning with the lower accuracy. This reflects the model's struggles in balancing precision and recall on unseen data.\n",
    "\n",
    "**AUC-ROC: 0.4744**\n",
    "\n",
    "An AUC-ROC below 0.5 suggests the model has poor discriminatory power, performing close to random guessing on validation data.\n",
    "\n",
    "**Confusion Matrix**\n",
    "\n",
    "The confusion matrix shows significant missclassification in both directions, indicating that the model struggles to distinguish between the two classes.\n",
    "\n",
    "**Overall Performance**\n",
    "\n",
    "The higher training metrics compared to validation metrics suggest overfitting, meaning that the model memorizes the training data but struggles to generalize to unseen data. The model also has poor validation performance and modest training metrics, indicating that the features may not capture the patterns needed for effective classification."
   ]
  },
  {
   "cell_type": "markdown",
   "metadata": {},
   "source": [
    "## Support Vector Machine"
   ]
  },
  {
   "cell_type": "code",
   "execution_count": 151,
   "metadata": {},
   "outputs": [
    {
     "name": "stdout",
     "output_type": "stream",
     "text": [
      "Fitting 5 folds for each of 12 candidates, totalling 60 fits\n",
      "Best Hyperparameters: {'svm__C': 10, 'svm__gamma': 'scale', 'svm__kernel': 'rbf'}\n",
      "Best Accuracy (Cross-Validation): 0.6125\n",
      "\n",
      "Training Metrics:\n",
      "Accuracy: 0.7875\n",
      "F1 Score: 0.7901\n",
      "AUC-ROC: 0.8838\n",
      "\n",
      "Validation Metrics:\n",
      "Accuracy: 0.5875\n",
      "F1 Score: 0.6207\n",
      "AUC-ROC: 0.6006\n",
      "\n",
      "Confusion Matrix:\n",
      "[[20 20]\n",
      " [13 27]]\n"
     ]
    },
    {
     "data": {
      "image/png": "[encoded data removed]",
      "text/plain": [
       "<Figure size 640x480 with 2 Axes>"
      ]
     },
     "metadata": {},
     "output_type": "display_data"
    }
   ],
   "source": [
    "# Define the SVM Pipeline \n",
    "svm_pipeline = Pipeline([\n",
    "    ('scaler', StandardScaler()),  # Standardize features\n",
    "    ('svm', SVC(probability=True, random_state=42))  # SVM with probability outputs\n",
    "])\n",
    "\n",
    "# Define the Parameter Grid for Hyperparameter Tuning \n",
    "param_grid = {\n",
    "    'svm__C': [ 0.1, 1, 10],  # Regularization strength\n",
    "    'svm__kernel': ['linear', 'rbf'],    # Kernel type\n",
    "    'svm__gamma': ['scale', 'auto']      # Kernel coefficient for RBF\n",
    "}\n",
    "\n",
    "# Perform GridSearchCV\n",
    "grid_search = GridSearchCV(\n",
    "    estimator=svm_pipeline,\n",
    "    param_grid=param_grid,\n",
    "    cv=StratifiedKFold(n_splits=5, shuffle=True, random_state=42),\n",
    "    scoring='accuracy',  # Optimize for Accuracy\n",
    "    n_jobs=-1,  \n",
    "    verbose=2  \n",
    ")\n",
    "\n",
    "grid_search.fit(X_train, y_train)\n",
    "\n",
    "# Best Model and Hyperparameters\n",
    "best_svm_model = grid_search.best_estimator_\n",
    "print(\"Best Hyperparameters:\", grid_search.best_params_)\n",
    "print(\"Best Accuracy (Cross-Validation):\", grid_search.best_score_)\n",
    "\n",
    "# Training Performance\n",
    "y_train_pred = best_svm_model.predict(X_train)\n",
    "y_train_prob = best_svm_model.predict_proba(X_train)[:, 1]\n",
    "\n",
    "train_accuracy = accuracy_score(y_train, y_train_pred)\n",
    "train_f1 = f1_score(y_train, y_train_pred)\n",
    "train_auc_roc = roc_auc_score(y_train, y_train_prob)\n",
    "\n",
    "print(\"\\nTraining Metrics:\")\n",
    "print(f\"Accuracy: {train_accuracy:.4f}\")\n",
    "print(f\"F1 Score: {train_f1:.4f}\")\n",
    "print(f\"AUC-ROC: {train_auc_roc:.4f}\")\n",
    "\n",
    "# Validation Performance\n",
    "# Use cross_val_predict for validation predictions\n",
    "y_val_pred = cross_val_predict(best_svm_model, X_train, y_train, cv=5)\n",
    "y_val_prob = cross_val_predict(best_svm_model, X_train, y_train, cv=5, method='predict_proba')[:, 1]\n",
    "\n",
    "val_accuracy = accuracy_score(y_train, y_val_pred)\n",
    "val_f1 = f1_score(y_train, y_val_pred)\n",
    "val_auc_roc = roc_auc_score(y_train, y_val_prob)\n",
    "\n",
    "print(\"\\nValidation Metrics:\")\n",
    "print(f\"Accuracy: {val_accuracy:.4f}\")\n",
    "print(f\"F1 Score: {val_f1:.4f}\")\n",
    "print(f\"AUC-ROC: {val_auc_roc:.4f}\")\n",
    "\n",
    "# Confusion Matrix\n",
    "cm = confusion_matrix(y_train, y_val_pred)\n",
    "print(\"\\nConfusion Matrix:\")\n",
    "print(cm)\n",
    "\n",
    "# Display Confusion Matrix\n",
    "disp = ConfusionMatrixDisplay(confusion_matrix=cm, display_labels=['Deceptive', 'True'])\n",
    "disp.plot(cmap=\"Blues\")\n",
    "plt.title(\"Confusion Matrix - SVM (After Hyperparameter Tuning)\")\n",
    "plt.show()\n"
   ]
  },
  {
   "cell_type": "markdown",
   "metadata": {},
   "source": [
    "### SVM Results and Analysis\n",
    "**Hyperparameters and Cross-Validation Performance**\n",
    "\n",
    "**Best Hyperparameters:**\n",
    "\n",
    "**'svm__C': 10:** \n",
    "\n",
    "A relatively high value of the regularization parameter, allowing the model to focus on minimizing classification errors while controlling the margin's complexity.\n",
    "\n",
    "**'svm__gamma': 'scale':**\n",
    "\n",
    "Automatically scales the influence of individual features based on the dataset, making it more adaptive to the data.\n",
    "\n",
    "**'svm__kernel': 'rbf':**\n",
    "\n",
    "The radial basis function kernel is effective for capturing complex, non-linear relationships between features.\n",
    "\n",
    "**Best Accuracy (Cross-Validation): 0.6125**\n",
    "\n",
    "This indicates that the model achieved an average accuracy of 61.25% across the 5 cross-validation folds. This performance is moderate, suggesting that while the model captures some patterns in the data, it may still have room for improvement.\n",
    "\n",
    "**Training Performance**\n",
    "\n",
    "**Accuracy: 0.7875**\n",
    "\n",
    "A high training accuracy, showing that the model performs well on the training set.\n",
    "\n",
    "**F1 Score: 0.7901**\n",
    "\n",
    "The F1 score demonstrates a balance between precision and recall, indicating that the model performs reliably on both false positives and false negatives in the training data.\n",
    "\n",
    "**AUC-ROC: 0.8838**\n",
    "\n",
    "A high AUC-ROC value reflects the model's ability to rank predictions correctly, distinguishing between positive and negative classes effectively on the training set.\n",
    "\n",
    "**Validation Performance**\n",
    "\n",
    "**Accuracy: 0.5875**\n",
    "\n",
    "The validation accuracy is moderate, indicating that the model is performing better than random guessing but still struggles to generalize to unseen data.\n",
    "\n",
    "**F1 Score: 0.6207**\n",
    "\n",
    "The F1 score reflects the model's ability to balance precision and recall on the validation set. This is an improvement over just accuracy, highlighting a reasonable trade-off between false positives and false negatives.\n",
    "\n",
    "**AUC-ROC: 0.6006**\n",
    "\n",
    "The AUC-ROC value suggests that the model has limited but acceptable ability to rank predictions correctly on the validation set.\n",
    "\n",
    "**Confusion Matrix**\n",
    "\n",
    "The confusion matrix indicates that while the model identifies **True** samples more accurately than **Deceptive** ones, there are still significant misclassifications in both categories.\n",
    "\n",
    "**Overall Performance**\n",
    "\n",
    "The model performs reasonably well on the training data as the training metrics reflect strong performance, however the validation metrics are more moderate, highlighting some degree of overfitting and the challenge of generalization."
   ]
  },
  {
   "cell_type": "markdown",
   "metadata": {},
   "source": [
    "## Decision Tree"
   ]
  },
  {
   "cell_type": "code",
   "execution_count": 153,
   "metadata": {},
   "outputs": [
    {
     "name": "stdout",
     "output_type": "stream",
     "text": [
      "Fitting 5 folds for each of 625 candidates, totalling 3125 fits\n",
      "Best Hyperparameters: {'max_depth': 4, 'max_leaf_nodes': 10, 'min_samples_leaf': 5, 'min_samples_split': 2}\n",
      "Best Accuracy (Cross-Validation): 0.6\n",
      "\n",
      "Training Metrics:\n",
      "Accuracy: 0.7750\n",
      "F1 Score: 0.7805\n",
      "AUC-ROC: 0.8447\n",
      "\n",
      "Validation Metrics:\n",
      "Accuracy: 0.4875\n",
      "F1 Score: 0.5495\n",
      "AUC-ROC: 0.4766\n",
      "\n",
      "Confusion Matrix:\n",
      "[[14 26]\n",
      " [15 25]]\n"
     ]
    },
    {
     "data": {
      "image/png": "[encoded data removed]",
      "text/plain": [
       "<Figure size 640x480 with 2 Axes>"
      ]
     },
     "metadata": {},
     "output_type": "display_data"
    }
   ],
   "source": [
    "# Define the Decision Tree Model\n",
    "dt_model = DecisionTreeClassifier(random_state=42)\n",
    "\n",
    "# Define the Parameter Grid for Hyperparameter Tuning\n",
    "param_grid = {\n",
    "    'max_depth': [2, 4, 6, 8, 10],          # Maximum depth of the tree\n",
    "    'min_samples_split': [2, 3, 4, 5, 6],       # Minimum samples required to split a node\n",
    "    'min_samples_leaf': [5, 10, 15, 20, 25],  # Minimum samples required to be at a leaf node\n",
    "    'max_leaf_nodes': [5, 10 ,15, 20, 25]\n",
    "}\n",
    "\n",
    "# Perform GridSearchCV\n",
    "grid_search = GridSearchCV(\n",
    "    estimator=dt_model,\n",
    "    param_grid=param_grid,\n",
    "    cv=StratifiedKFold(n_splits=5, shuffle=True, random_state=42),\n",
    "    scoring='accuracy',  # Optimize for Accuracy\n",
    "    n_jobs=-1, \n",
    "    verbose=2 \n",
    ")\n",
    "\n",
    "grid_search.fit(X_train, y_train)\n",
    "\n",
    "# Best Model and Hyperparameters\n",
    "best_dt_model = grid_search.best_estimator_\n",
    "print(\"Best Hyperparameters:\", grid_search.best_params_)\n",
    "print(\"Best Accuracy (Cross-Validation):\", grid_search.best_score_)\n",
    "\n",
    "# Training Performance\n",
    "y_train_pred = best_dt_model.predict(X_train)\n",
    "y_train_prob = best_dt_model.predict_proba(X_train)[:, 1]\n",
    "\n",
    "train_accuracy = accuracy_score(y_train, y_train_pred)\n",
    "train_f1 = f1_score(y_train, y_train_pred)\n",
    "train_auc_roc = roc_auc_score(y_train, y_train_prob)\n",
    "\n",
    "print(\"\\nTraining Metrics:\")\n",
    "print(f\"Accuracy: {train_accuracy:.4f}\")\n",
    "print(f\"F1 Score: {train_f1:.4f}\")\n",
    "print(f\"AUC-ROC: {train_auc_roc:.4f}\")\n",
    "\n",
    "# Validation Performance\n",
    "# Use cross_val_predict for validation predictions\n",
    "y_val_pred = cross_val_predict(best_dt_model, X_train, y_train, cv=5)\n",
    "y_val_prob = cross_val_predict(best_dt_model, X_train, y_train, cv=5, method='predict_proba')[:, 1]\n",
    "\n",
    "val_accuracy = accuracy_score(y_train, y_val_pred)\n",
    "val_f1 = f1_score(y_train, y_val_pred)\n",
    "val_auc_roc = roc_auc_score(y_train, y_val_prob)\n",
    "\n",
    "print(\"\\nValidation Metrics:\")\n",
    "print(f\"Accuracy: {val_accuracy:.4f}\")\n",
    "print(f\"F1 Score: {val_f1:.4f}\")\n",
    "print(f\"AUC-ROC: {val_auc_roc:.4f}\")\n",
    "\n",
    "# Confusion Matrix\n",
    "cm = confusion_matrix(y_train, y_val_pred)\n",
    "print(\"\\nConfusion Matrix:\")\n",
    "print(cm)\n",
    "\n",
    "# Display Confusion Matrix\n",
    "disp = ConfusionMatrixDisplay(confusion_matrix=cm, display_labels=['Deceptive', 'True'])\n",
    "disp.plot(cmap=\"Blues\")\n",
    "plt.title(\"Confusion Matrix - Decision Tree (After Hyperparameter Tuning)\")\n",
    "plt.show()\n"
   ]
  },
  {
   "cell_type": "markdown",
   "metadata": {},
   "source": [
    "### Decision Tree Results and Analysis\n",
    "**Hyperparameters and Cross-Validation Performance**\n",
    "\n",
    "**Best Hyperparameters:**\n",
    "\n",
    "**'max_depth': 4:**\n",
    "\n",
    "Limits the maximum depth of the tree, preventing overfitting by simplifying the model.\n",
    "\n",
    "**'max_leaf_nodes': 10:**\n",
    "\n",
    "Restricts the maximum number of leaf nodes, further controlling model complexity.\n",
    "\n",
    "**'min_samples_leaf': 5:**\n",
    "\n",
    "Ensures that each leaf node has at least 5 samples, improving generalization.\n",
    "\n",
    "**'min_samples_split': 2:**\n",
    "\n",
    "The minimum number of samples required to split a node.\n",
    "\n",
    "**Best Accuracy (Cross-Validation): 0.6**\n",
    "\n",
    "The model achieved 60% accuracy across 5 cross-validation folds. This is moderate and suggests the model is capturing some patterns in the data but has room for improvement.\n",
    "\n",
    "**Training Performance**\n",
    "\n",
    "**Accuracy: 0.7750**\n",
    "\n",
    "The training accuracy indicates that the model is performing well on the training set but not perfectly, which is expected for a regularized decision tree.\n",
    "\n",
    "**F1 Score: 0.7805**\n",
    "\n",
    "A high F1 score indicates a balance between precision and recall on the training set, demonstrating good performance across both false positives and false negatives.\n",
    "\n",
    "**AUC-ROC: 0.8447**\n",
    "\n",
    "The high AUC-ROC value reflects the model's strong ability to rank predictions correctly on the training data.\n",
    "\n",
    "**Validation Performance**\n",
    "\n",
    "**Accuracy: 0.4875**\n",
    "\n",
    "The validation accuracy is much lower than the training accuracy, indicating significant difficulty in generalizing to unseen data.\n",
    "\n",
    "**F1 Score: 0.5495**\n",
    "\n",
    "The F1 score highlights a moderate balance between precision and recall on the validation set. This suggests the model struggles equally with false positives and false negatives.\n",
    "\n",
    "**AUC-ROC: 0.4766**\n",
    "\n",
    "An AUC-ROC close to 0.5 shows the model is not significantly better than random guessing at ranking positive and negative predictions on the validation set.\n",
    "\n",
    "**Confusion Matrix**\n",
    "\n",
    "The confusion matrix indicates that the model struggles with misclassifications in both classes, particularly in classifying deceptive samples.\n",
    "\n",
    "**Overall Performance**\n",
    "\n",
    "This model performs well on the training set but its low validation metrics indicate severe overfitting and difficulty in generalizing to unseen data, which may be due to limitations in the feature set."
   ]
  },
  {
   "cell_type": "markdown",
   "metadata": {},
   "source": [
    "### k-NN Model"
   ]
  },
  {
   "cell_type": "code",
   "execution_count": 155,
   "metadata": {},
   "outputs": [
    {
     "name": "stdout",
     "output_type": "stream",
     "text": [
      "Fitting 5 folds for each of 30 candidates, totalling 150 fits\n",
      "Best Hyperparameters: {'knn__metric': 'manhattan', 'knn__n_neighbors': 9, 'knn__weights': 'distance'}\n",
      "Best Accuracy (Cross-Validation): 0.625\n",
      "\n",
      "Training Metrics:\n",
      "Accuracy: 1.0000\n",
      "F1 Score: 1.0000\n",
      "AUC-ROC: 1.0000\n",
      "\n",
      "Validation Metrics:\n",
      "Accuracy: 0.6125\n",
      "F1 Score: 0.6437\n",
      "AUC-ROC: 0.6206\n",
      "\n",
      "Confusion Matrix:\n",
      "[[21 19]\n",
      " [12 28]]\n"
     ]
    },
    {
     "data": {
      "image/png": "[encoded data removed]",
      "text/plain": [
       "<Figure size 640x480 with 2 Axes>"
      ]
     },
     "metadata": {},
     "output_type": "display_data"
    }
   ],
   "source": [
    "#  Define the k-NN Pipeline\n",
    "knn_pipeline = Pipeline([\n",
    "    ('scaler', StandardScaler()),  # Standardize features\n",
    "    ('knn', KNeighborsClassifier())  # k-NN model\n",
    "])\n",
    "\n",
    "#  Define the Parameter Grid for Hyperparameter Tuning \n",
    "param_grid = {\n",
    "    'knn__n_neighbors': [5, 7, 9, 11 ,13],         # Number of neighbors\n",
    "    'knn__weights': ['uniform', 'distance'],  # Weight function used in prediction\n",
    "    'knn__metric': ['euclidean', 'manhattan', 'minkowski']  # Distance metrics\n",
    "}\n",
    "\n",
    "# Perform GridSearchCV\n",
    "grid_search = GridSearchCV(\n",
    "    estimator=knn_pipeline,\n",
    "    param_grid=param_grid,\n",
    "    cv=StratifiedKFold(n_splits=5, shuffle=True, random_state=42),\n",
    "    scoring='accuracy',  # Optimize for Accuracy\n",
    "    n_jobs=-1, \n",
    "    verbose=2  \n",
    ")\n",
    "\n",
    "grid_search.fit(X_train, y_train)\n",
    "\n",
    "# Best Model and Hyperparameters\n",
    "best_knn_model = grid_search.best_estimator_\n",
    "print(\"Best Hyperparameters:\", grid_search.best_params_)\n",
    "print(\"Best Accuracy (Cross-Validation):\", grid_search.best_score_)\n",
    "\n",
    "# Training Performance \n",
    "y_train_pred = best_knn_model.predict(X_train)\n",
    "y_train_prob = best_knn_model.predict_proba(X_train)[:, 1]\n",
    "\n",
    "train_accuracy = accuracy_score(y_train, y_train_pred)\n",
    "train_f1 = f1_score(y_train, y_train_pred)\n",
    "train_auc_roc = roc_auc_score(y_train, y_train_prob)\n",
    "\n",
    "print(\"\\nTraining Metrics:\")\n",
    "print(f\"Accuracy: {train_accuracy:.4f}\")\n",
    "print(f\"F1 Score: {train_f1:.4f}\")\n",
    "print(f\"AUC-ROC: {train_auc_roc:.4f}\")\n",
    "\n",
    "#  Validation Performance \n",
    "# Use cross_val_predict for validation predictions\n",
    "y_val_pred = cross_val_predict(best_knn_model, X_train, y_train, cv=5)\n",
    "y_val_prob = cross_val_predict(best_knn_model, X_train, y_train, cv=5, method='predict_proba')[:, 1]\n",
    "\n",
    "val_accuracy = accuracy_score(y_train, y_val_pred)\n",
    "val_f1 = f1_score(y_train, y_val_pred)\n",
    "val_auc_roc = roc_auc_score(y_train, y_val_prob)\n",
    "\n",
    "print(\"\\nValidation Metrics:\")\n",
    "print(f\"Accuracy: {val_accuracy:.4f}\")\n",
    "print(f\"F1 Score: {val_f1:.4f}\")\n",
    "print(f\"AUC-ROC: {val_auc_roc:.4f}\")\n",
    "\n",
    "# Confusion Matrix\n",
    "cm = confusion_matrix(y_train, y_val_pred)\n",
    "print(\"\\nConfusion Matrix:\")\n",
    "print(cm)\n",
    "\n",
    "# Display Confusion Matrix\n",
    "disp = ConfusionMatrixDisplay(confusion_matrix=cm, display_labels=['Deceptive', 'True'])\n",
    "disp.plot(cmap=\"Blues\")\n",
    "plt.title(\"Confusion Matrix - k-NN (After Hyperparameter Tuning)\")\n",
    "plt.show()\n"
   ]
  },
  {
   "cell_type": "markdown",
   "metadata": {},
   "source": [
    "### k-Nearest Neighbors Results and Analysis\n",
    "**Hyperparameters and Cross-Validation Performance**\n",
    "\n",
    "**Best Hyperparameters:**\n",
    "\n",
    "**'knn__metric': 'manhattan':**\n",
    "\n",
    "The Manhattan distance (L1 norm) is used as the distance metric, focusing on absolute differences between feature values.\n",
    "\n",
    "**'knn__n_neighbors': 9:**\n",
    "\n",
    "The model considers the 9 nearest neighbors to classify a sample.\n",
    "\n",
    "**'knn__weights': 'distance':**\n",
    "\n",
    "Closer neighbors are weighted more heavily in the classification, improving accuracy for imbalanced or overlapping classes.\n",
    "\n",
    "**Best Accuracy (Cross-Validation): 0.625**\n",
    "\n",
    "The model achieved 62.5% accuracy during cross-validation, showing decent performance in predicting unseen data within the validation folds.\n",
    "\n",
    "**Training Performance**\n",
    "\n",
    "**Accuracy: 1.0000**\n",
    "\n",
    "Perfect accuracy on the training data indicates that the model fully memorized the training set.\n",
    "\n",
    "**F1 Score: 1.0000**\n",
    "\n",
    "A perfect F1 score reflects no false positives or false negatives on the training set.\n",
    "\n",
    "**AUC-ROC: 1.0000**\n",
    "\n",
    "The model is perfectly ranking positive and negative samples in the training set.\n",
    "\n",
    "**Validation Performance**\n",
    "\n",
    "**Accuracy: 0.6125**\n",
    "\n",
    "The model's accuracy on the validation set indicates it correctly classified approximately 61.25% of samples, showing better generalization than some other models.\n",
    "\n",
    "**F1 Score: 0.6437**\n",
    "\n",
    "A moderately high F1 score suggests a reasonable balance between precision and recall on the validation set.\n",
    "\n",
    "**AUC-ROC: 0.6206**\n",
    "\n",
    "The AUC-ROC score reflects the model's ability to rank positive and negative samples correctly, which is slightly better than random guessing (0.5).\n",
    "\n",
    "**Confusion Matrix**\n",
    "\n",
    "The confusion matrix highlights a relatively balanced performance. However, there are notable misclassifications in both classes.\n",
    "\n",
    "**Overall Performance**\n",
    "\n",
    "The model works very well on the training set due to its non-parametric nature but the overly high training metrics suggest that the k-NN model is overfitting to the training data because it achieves perfect performance but generalizes poorly, as indicated by the validation metrics. However, its validation accuracy and f1 score are reasonable, indicating the model is effeective in handling this dataset to some extent."
   ]
  },
  {
   "cell_type": "markdown",
   "metadata": {},
   "source": [
    "# Individual Model Performance Ranking Table\n",
    "\n",
    "| **Rank** | **Model**          | **Validation Accuracy** | **Validation F1 Score** | **Validation AUC-ROC** |\n",
    "|----------|---------------------|--------------------------|--------------------------|-------------------------|\n",
    "| 1        | k-NN               | 0.6125                  | 0.6437                  | 0.6206                 |\n",
    "| 2        | SVM                | 0.5875                  | 0.6207                  | 0.6006                 |\n",
    "| 3        | Decision Tree       | 0.4875                  | 0.5495                  | 0.4766                 |\n",
    "| 4        | Logistic Regression | 0.4625                  | 0.5169                  | 0.4744                 |\n"
   ]
  },
  {
   "cell_type": "markdown",
   "metadata": {},
   "source": [
    "## Ensemble Model Training"
   ]
  },
  {
   "cell_type": "markdown",
   "metadata": {},
   "source": [
    "### Random Forest"
   ]
  },
  {
   "cell_type": "code",
   "execution_count": 158,
   "metadata": {},
   "outputs": [],
   "source": [
    "from sklearn.ensemble import RandomForestClassifier\n",
    "from sklearn.ensemble import GradientBoostingClassifier\n",
    "from sklearn.ensemble import StackingClassifier\n",
    "from sklearn.ensemble import VotingClassifier"
   ]
  },
  {
   "cell_type": "code",
   "execution_count": 160,
   "metadata": {},
   "outputs": [
    {
     "name": "stdout",
     "output_type": "stream",
     "text": [
      "Fitting 5 folds for each of 128 candidates, totalling 640 fits\n",
      "Best Hyperparameters: {'criterion': 'gini', 'max_depth': 2, 'min_samples_leaf': 20, 'min_samples_split': 10, 'n_estimators': 400}\n",
      "Best Accuracy (Cross-Validation): 0.5375\n",
      "\n",
      "--- Random Forest Results After Hyperparameter Tuning ---\n",
      "Training Metrics:\n",
      "Accuracy: 0.6500\n",
      "F1 Score: 0.6585\n",
      "AUC-ROC: 0.7278\n",
      "\n",
      "Validation Metrics:\n",
      "Accuracy: 0.5500\n",
      "F1 Score: 0.5610\n",
      "AUC-ROC: 0.5103\n",
      "[[21 19]\n",
      " [17 23]]\n"
     ]
    },
    {
     "data": {
      "image/png": "[encoded data removed]",
      "text/plain": [
       "<Figure size 640x480 with 2 Axes>"
      ]
     },
     "metadata": {},
     "output_type": "display_data"
    }
   ],
   "source": [
    "# Define the Random Forest Classifier \n",
    "rf_model = RandomForestClassifier(random_state=42)\n",
    "\n",
    "# Define the Parameter Grid for Hyperparameter Tuning \n",
    "param_grid_rf = {\n",
    "    'n_estimators': [300, 400, 500, 600],  # Number of trees\n",
    "    'max_depth': [2, 3, 4, 5],       # Maximum depth of each tree\n",
    "    'min_samples_split': [10, 20],  # Minimum samples required to split a node\n",
    "    'min_samples_leaf': [20, 30],    # Minimum samples at a leaf node\n",
    "    'criterion': ['gini', 'entropy']  # Split quality criterion\n",
    "}\n",
    "\n",
    "# Perform GridSearchCV\n",
    "grid_search_rf = GridSearchCV(\n",
    "    estimator=rf_model,\n",
    "    param_grid=param_grid_rf,\n",
    "    cv=StratifiedKFold(n_splits=5, shuffle=True, random_state=42),\n",
    "    scoring='accuracy',  # Optimize for Accuracy\n",
    "    n_jobs=-1,\n",
    "    verbose=2\n",
    ")\n",
    "\n",
    "# Fit GridSearchCV to find the best model\n",
    "grid_search_rf.fit(X_train, y_train)\n",
    "\n",
    "#  Retrieve the Best Model \n",
    "best_rf_model = grid_search_rf.best_estimator_\n",
    "print(\"Best Hyperparameters:\", grid_search_rf.best_params_)\n",
    "print(\"Best Accuracy (Cross-Validation):\", grid_search_rf.best_score_)\n",
    "\n",
    "# Training Metrics\n",
    "y_train_pred = best_rf_model.predict(X_train)\n",
    "y_train_prob = best_rf_model.predict_proba(X_train)[:, 1]\n",
    "train_accuracy = accuracy_score(y_train, y_train_pred)\n",
    "train_f1 = f1_score(y_train, y_train_pred)\n",
    "train_auc_roc = roc_auc_score(y_train, y_train_prob)\n",
    "\n",
    "# Validation Metrics\n",
    "y_val_pred = cross_val_predict(best_rf_model, X_train, y_train, cv=5)\n",
    "y_val_prob = cross_val_predict(best_rf_model, X_train, y_train, cv=5, method='predict_proba')[:, 1]\n",
    "val_accuracy = accuracy_score(y_train, y_val_pred)\n",
    "val_f1 = f1_score(y_train, y_val_pred)\n",
    "val_auc_roc = roc_auc_score(y_train, y_val_prob)\n",
    "\n",
    "# Print Metrics\n",
    "print(\"\\n--- Random Forest Results After Hyperparameter Tuning ---\")\n",
    "print(\"Training Metrics:\")\n",
    "print(f\"Accuracy: {train_accuracy:.4f}\")\n",
    "print(f\"F1 Score: {train_f1:.4f}\")\n",
    "print(f\"AUC-ROC: {train_auc_roc:.4f}\")\n",
    "print(\"\\nValidation Metrics:\")\n",
    "print(f\"Accuracy: {val_accuracy:.4f}\")\n",
    "print(f\"F1 Score: {val_f1:.4f}\")\n",
    "print(f\"AUC-ROC: {val_auc_roc:.4f}\")\n",
    "\n",
    "# Confusion Matrix \n",
    "cm = confusion_matrix(y_train, y_val_pred)\n",
    "print(cm)\n",
    "disp = ConfusionMatrixDisplay(confusion_matrix=cm, display_labels=['Deceptive', 'True'])\n",
    "disp.plot(cmap=\"Blues\")\n",
    "plt.title(\"Confusion Matrix - Random Forest (After Hyperparameter Tuning)\")\n",
    "plt.show()\n"
   ]
  },
  {
   "cell_type": "markdown",
   "metadata": {},
   "source": [
    "### Random Forest Results and Analysis\n",
    "**Hyperparameters and Cross-Validation Performance**\n",
    "\n",
    "**Best Hyperparameters:**\n",
    "\n",
    "**'criterion': 'gini':**\n",
    "\n",
    "The Gini impurity criterion is used to measure the quality of splits.\n",
    "\n",
    "**'max_depth': 2:**\n",
    "\n",
    "Trees are restricted to a maximum depth of 2, limiting their complexity and reducing overfitting.\n",
    "\n",
    "**'min_samples_leaf': 20:**\n",
    "\n",
    "Each leaf node must contain at least 20 samples, encouraging broader, less specific splits.\n",
    "\n",
    "**'min_samples_split': 10:**\n",
    "\n",
    "Nodes must have at least 10 samples to split, ensuring splits occur only when statistically meaningful.\n",
    "\n",
    "**'n_estimators': 400:**\n",
    "\n",
    "A high number of trees are used to reduce variance and improve generalization.\n",
    "\n",
    "**Best Accuracy (Cross-Validation): 0.5375**\n",
    "\n",
    "The model achieved an average accuracy of 53.75% during cross-validation. This indicates moderate performance on unseen data in the validation folds.\n",
    "\n",
    "**Training Performance**\n",
    "\n",
    "**Accuracy: 0.6500**\n",
    "\n",
    "The training accuracy shows the model correctly classified 65% of the training data. This is not overly high, suggesting the model avoided overfitting to some degree.\n",
    "\n",
    "**F1 Score: 0.6585**\n",
    "\n",
    "The F1 score reflects a balance between precision and recall in the training set, which aligns with the moderate accuracy.\n",
    "\n",
    "**AUC-ROC: 0.7278**\n",
    "\n",
    "The model demonstrates decent discriminatory ability on the training set, with an AUC-ROC of 0.7278.\n",
    "\n",
    "**Validation Performance**\n",
    "\n",
    "**Accuracy: 0.5500**\n",
    "\n",
    "Validation accuracy of 55% indicates moderate generalization ability but does not represent a significant improvement over random guessing for this dataset.\n",
    "\n",
    "**F1 Score: 0.5610**\n",
    "\n",
    "A validation F1 score slightly above 0.56 shows reasonable precision and recall, though there is room for improvement.\n",
    "\n",
    "**AUC-ROC: 0.5103**\n",
    "\n",
    "The AUC-ROC is barely above 0.5, indicating that the model struggles to rank positive and negative samples effectively in the validation set.\n",
    "\n",
    "**Confusion Matrix**\n",
    "\n",
    "The confusion matrix shows that the model identifies true and deceptive stories fairly equally but still struggles with distinguishing between the classes effectively.\n",
    "\n",
    "**Overall Performance**\n",
    "\n",
    "Thee cross-validation accuracy is similar to the validation accuracy, meaning that the model's performance generalizes well within the folds and the validation set. However, the difference between the training metrics and the validation metrics suggests slight overfitting. The low AUC-ROC suggests that the model struggles to rank predictions correctly."
   ]
  },
  {
   "cell_type": "markdown",
   "metadata": {},
   "source": [
    "### Gradient Boosting"
   ]
  },
  {
   "cell_type": "code",
   "execution_count": 162,
   "metadata": {},
   "outputs": [
    {
     "name": "stdout",
     "output_type": "stream",
     "text": [
      "Fitting 5 folds for each of 192 candidates, totalling 960 fits\n",
      "Best Hyperparameters: {'learning_rate': 0.005, 'max_depth': 1, 'min_samples_leaf': 30, 'min_samples_split': 30, 'n_estimators': 500}\n",
      "Best Accuracy (Cross-Validation): 0.5875\n",
      "\n",
      "--- Gradient Boosting Results After Hyperparameter Tuning ---\n",
      "Training Metrics:\n",
      "Accuracy: 0.7125\n",
      "F1 Score: 0.6849\n",
      "AUC-ROC: 0.7466\n",
      "\n",
      "Validation Metrics:\n",
      "Accuracy: 0.5625\n",
      "F1 Score: 0.5679\n",
      "AUC-ROC: 0.5497\n",
      "[[22 18]\n",
      " [17 23]]\n"
     ]
    },
    {
     "data": {
      "image/png": "[encoded data removed]",
      "text/plain": [
       "<Figure size 640x480 with 2 Axes>"
      ]
     },
     "metadata": {},
     "output_type": "display_data"
    }
   ],
   "source": [
    "# Define the Gradient Boosting Classifier\n",
    "gb_model = GradientBoostingClassifier(random_state=42)\n",
    "\n",
    "# Define the Parameter Grid for Hyperparameter Tuning\n",
    "param_grid_gb = {\n",
    "    'n_estimators': [300, 400, 500, 600],  # Number of boosting stages\n",
    "    'learning_rate': [0.005, 0.01],  # Step size shrinkage\n",
    "    'max_depth': [1, 2, 3, 4],  # Maximum depth of each tree\n",
    "    'min_samples_split': [30, 40, 50],  # Minimum samples to split an internal node\n",
    "    'min_samples_leaf': [30, 40]  # Minimum samples required to be at a leaf node\n",
    "}\n",
    "\n",
    "# Perform GridSearchCV \n",
    "grid_search_gb = GridSearchCV(\n",
    "    estimator=gb_model,\n",
    "    param_grid=param_grid_gb,\n",
    "    cv=StratifiedKFold(n_splits=5, shuffle=True, random_state=42),\n",
    "    scoring='accuracy',  # Optimize for Accuracy\n",
    "    n_jobs=-1,  \n",
    "    verbose=2  \n",
    ")\n",
    "\n",
    "# Fit GridSearchCV to find the best model\n",
    "grid_search_gb.fit(X_train, y_train)\n",
    "\n",
    "# Retrieve the Best Model \n",
    "best_gb_model = grid_search_gb.best_estimator_\n",
    "print(\"Best Hyperparameters:\", grid_search_gb.best_params_)\n",
    "print(\"Best Accuracy (Cross-Validation):\", grid_search_gb.best_score_)\n",
    "\n",
    "# Evaluate the Best Model \n",
    "\n",
    "# Training Metrics\n",
    "y_train_pred = best_gb_model.predict(X_train)\n",
    "y_train_prob = best_gb_model.predict_proba(X_train)[:, 1]\n",
    "train_accuracy = accuracy_score(y_train, y_train_pred)\n",
    "train_f1 = f1_score(y_train, y_train_pred)\n",
    "train_auc_roc = roc_auc_score(y_train, y_train_prob)\n",
    "\n",
    "# Validation Metrics\n",
    "y_val_pred = cross_val_predict(best_gb_model, X_train, y_train, cv=5)\n",
    "y_val_prob = cross_val_predict(best_gb_model, X_train, y_train, cv=5, method='predict_proba')[:, 1]\n",
    "val_accuracy = accuracy_score(y_train, y_val_pred)\n",
    "val_f1 = f1_score(y_train, y_val_pred)\n",
    "val_auc_roc = roc_auc_score(y_train, y_val_prob)\n",
    "\n",
    "# Print Metrics\n",
    "print(\"\\n--- Gradient Boosting Results After Hyperparameter Tuning ---\")\n",
    "print(\"Training Metrics:\")\n",
    "print(f\"Accuracy: {train_accuracy:.4f}\")\n",
    "print(f\"F1 Score: {train_f1:.4f}\")\n",
    "print(f\"AUC-ROC: {train_auc_roc:.4f}\")\n",
    "print(\"\\nValidation Metrics:\")\n",
    "print(f\"Accuracy: {val_accuracy:.4f}\")\n",
    "print(f\"F1 Score: {val_f1:.4f}\")\n",
    "print(f\"AUC-ROC: {val_auc_roc:.4f}\")\n",
    "\n",
    "# Confusion Matrix \n",
    "cm = confusion_matrix(y_train, y_val_pred)\n",
    "print(cm)\n",
    "disp = ConfusionMatrixDisplay(confusion_matrix=cm, display_labels=['Deceptive', 'True'])\n",
    "disp.plot(cmap=\"Blues\")\n",
    "plt.title(\"Confusion Matrix - Gradient Boosting (After Hyperparameter Tuning)\")\n",
    "plt.show()\n"
   ]
  },
  {
   "cell_type": "markdown",
   "metadata": {},
   "source": [
    "### Gradient Boosting Results and Analysis\n",
    "**Hyperparameters and Cross-Validation Performance**\n",
    "\n",
    "**Best Hyperparameters:**\n",
    "\n",
    "**learning_rate = 0.005:**\n",
    "\n",
    "A very small learning rate to ensure incremental learning and reduce overfitting.\n",
    "\n",
    "**max_depth = 1:**\n",
    "\n",
    "Shallow trees, which prevent the model from becoming overly complex.\n",
    "\n",
    "**min_samples_leaf = 30:**\n",
    "\n",
    "Ensures that leaf nodes have enough data points to generalize.\n",
    "\n",
    "**min_samples_split = 30:**\n",
    "\n",
    "Avoids overfitting by requiring more samples to split a node.\n",
    "\n",
    "**n_estimators = 500:**\n",
    "\n",
    "A large number of estimators to compensate for the small learning rate.\n",
    "\n",
    "**Best Accuracy (Cross-Validation): 58.75%**\n",
    "\n",
    "This reflects the average performance during cross-validation, which is moderate and suggests some ability to generalize.\n",
    "\n",
    "**Training Performance**\n",
    "\n",
    "**Accuracy: 71.25%**\n",
    "\n",
    "Indicates that the model performs reasonably well on the training data.\n",
    "\n",
    "**F1 Score: 0.6849**\n",
    "\n",
    "Demonstrates a good balance between precision and recall in training.\n",
    "\n",
    "**AUC-ROC: 0.7466**\n",
    "\n",
    "Reflects the model's ability to rank predictions effectively for training data.\n",
    "\n",
    "**Validation Performance**\n",
    "\n",
    "**Accuracy: 56.25%**\n",
    "\n",
    "A noticeable drop compared to training accuracy, indicating potential overfitting.\n",
    "\n",
    "**F1 Score: 0.5679**\n",
    "\n",
    "Moderate balance between precision and recall for the validation set.\n",
    "\n",
    "**AUC-ROC: 0.5497**\n",
    "\n",
    "Only slightly better than random guessing, suggesting the model struggles with ranking predictions on unseen data.\n",
    "\n",
    "**Confusion Matrix**\n",
    "\n",
    "The confusion matrix shows a fairly balanced distribution of errors across false positives and false negatives, indicating that the model is not biased towards one class.\n",
    "\n",
    "**Overall Performance**\n",
    "\n",
    "The model shows moderate performance. The training accuracy is relatively higher than the validation accuracy, indicating overfitting to a certain degree and suggesting struggles in generalization. The AUC-ROC is also decreased in validation, further highlighting this issue."
   ]
  },
  {
   "cell_type": "markdown",
   "metadata": {},
   "source": [
    "### Stacking Ensemble \n",
    "\n",
    "Due to k-NN and SVM having the best performance in terms of validation accuracy, they will be combined using a stacking ensemble as this should combine their different strengths and make a more robust model, reducing overfitting by increasing diversity in learning mechanisms. "
   ]
  },
  {
   "cell_type": "code",
   "execution_count": 164,
   "metadata": {},
   "outputs": [
    {
     "name": "stdout",
     "output_type": "stream",
     "text": [
      "\n",
      "Training Metrics\n",
      "Accuracy: 1.0000\n",
      "F1 Score: 1.0000\n",
      "AUC-ROC: 1.0000\n",
      "\n",
      "Validation Metrics\n",
      "Accuracy: 0.6625\n",
      "F1 Score: 0.6667\n",
      "AUC-ROC: 0.5825\n",
      "\n",
      "Confusion Matrix:\n",
      "[[26 14]\n",
      " [13 27]]\n"
     ]
    },
    {
     "data": {
      "image/png": "[encoded data removed]",
      "text/plain": [
       "<Figure size 640x480 with 2 Axes>"
      ]
     },
     "metadata": {},
     "output_type": "display_data"
    }
   ],
   "source": [
    "# Define the base models (best KNN and best SVM)\n",
    "base_estimators = [\n",
    "    ('knn', best_knn_model),\n",
    "    ('svm', best_svm_model)  \n",
    "]\n",
    "\n",
    "# Define the meta-model (Logistic Regression in this case)\n",
    "meta_model = LogisticRegression(max_iter=1000, random_state=42)\n",
    "\n",
    "# Create the stacking ensemble\n",
    "stacking_ensemble = StackingClassifier(\n",
    "    estimators=base_estimators,  # Base models\n",
    "    final_estimator=meta_model,  # Meta-model\n",
    "    cv=5,  # Cross-validation folds for training meta-model\n",
    "    stack_method='predict_proba'  # Use probabilities for meta-model input\n",
    ")\n",
    "\n",
    "# Train the stacking ensemble\n",
    "stacking_ensemble.fit(X_train, y_train)\n",
    "\n",
    "# --- Training Metrics ---\n",
    "y_train_pred = stacking_ensemble.predict(X_train)\n",
    "y_train_prob = stacking_ensemble.predict_proba(X_train)[:, 1]\n",
    "\n",
    "train_accuracy = accuracy_score(y_train, y_train_pred)\n",
    "train_f1 = f1_score(y_train, y_train_pred)\n",
    "train_auc_roc = roc_auc_score(y_train, y_train_prob)\n",
    "\n",
    "print(\"\\nTraining Metrics\")\n",
    "print(f\"Accuracy: {train_accuracy:.4f}\")\n",
    "print(f\"F1 Score: {train_f1:.4f}\")\n",
    "print(f\"AUC-ROC: {train_auc_roc:.4f}\")\n",
    "\n",
    "# Cross-Validation Metrics\n",
    "from sklearn.model_selection import cross_val_predict\n",
    "\n",
    "y_val_pred = cross_val_predict(stacking_ensemble, X_train, y_train, cv=5)\n",
    "y_val_prob = cross_val_predict(stacking_ensemble, X_train, y_train, cv=5, method='predict_proba')[:, 1]\n",
    "\n",
    "val_accuracy = accuracy_score(y_train, y_val_pred)\n",
    "val_f1 = f1_score(y_train, y_val_pred)\n",
    "val_auc_roc = roc_auc_score(y_train, y_val_prob)\n",
    "\n",
    "print(\"\\nValidation Metrics\")\n",
    "print(f\"Accuracy: {val_accuracy:.4f}\")\n",
    "print(f\"F1 Score: {val_f1:.4f}\")\n",
    "print(f\"AUC-ROC: {val_auc_roc:.4f}\")\n",
    "\n",
    "# Confusion Matrix \n",
    "cm = confusion_matrix(y_train, y_val_pred)\n",
    "print(\"\\nConfusion Matrix:\")\n",
    "print(cm)\n",
    "\n",
    "# Display Confusion Matrix\n",
    "disp = ConfusionMatrixDisplay(confusion_matrix=cm, display_labels=['Deceptive', 'True'])\n",
    "disp.plot(cmap=\"Blues\")\n",
    "plt.title(\"Confusion Matrix - Stacking Ensemble\")\n",
    "plt.show()\n",
    "\n"
   ]
  },
  {
   "cell_type": "markdown",
   "metadata": {},
   "source": [
    "### Stacking Ensemble Results and Analysis\n",
    "\n",
    "**Training Performance**\n",
    "\n",
    "**Accuracy: 1.0000**\n",
    "\n",
    "The model achieves perfect accuracy on the training dataset. This is a sign of overfitting because the validation performance is substantially lower.\n",
    "\n",
    "**F1 Score: 1.0000**\n",
    "\n",
    "A perfect F1 score indicates that the model has no false positives or false negatives on the training set, another sign of overfitting.\n",
    "\n",
    "**AUC-ROC: 1.0000**\n",
    "\n",
    "The AUC-ROC also being perfect reflects the same overfitting trend, as the model fully separates the two classes on the training data.\n",
    "\n",
    "**Validation Performance**\n",
    "\n",
    "**Accuracy: 0.6625**\n",
    "\n",
    "The validation accuracy shows the stacking ensemble performs better than the individual models, particularly k-NN and SVM, on unseen data. However, the improvement is moderate and indicates room for further optimization.\n",
    "\n",
    "**F1 Score: 0.6667**\n",
    "\n",
    "The F1 score balances precision and recall, suggesting the ensemble handles both false positives and false negatives moderately well.\n",
    "\n",
    "**AUC-ROC: 0.5825**\n",
    "\n",
    "The AUC-ROC indicates that while the stacking ensemble provides better rank ordering of predictions compared to some individual models, it is still not ideal for capturing probabilistic separations between the classes.\n",
    "\n",
    "**Confusion Matrix**\n",
    "\n",
    "The confusion matrix shows a fairly balanced distribution, performing marginally better on detecting true samples.\n",
    "\n",
    "**Overall Performance**\n",
    "\n",
    "The stacking ensemble seems to be a slight improvement over individual models like k-NN and SVM, but it is overfitting. However, the validation results indicate that the model still generalizes better than the individual models. The AUC-ROC value indicates that it struggles to rank predictions."
   ]
  },
  {
   "cell_type": "markdown",
   "metadata": {},
   "source": [
    "### Voting Ensemble \n",
    "\n",
    "I tried using a stacking ensemble for the gradient boosting and random forest models, but the validation performance of the voting ensemble is greater than that of the stacking ensemble combining these two models. This might be due to how the errors of both models not being significantly different, therefore favouring voting as an ensemble method over stacking."
   ]
  },
  {
   "cell_type": "code",
   "execution_count": 168,
   "metadata": {},
   "outputs": [
    {
     "name": "stdout",
     "output_type": "stream",
     "text": [
      "\n",
      "Training Metrics:\n",
      "Accuracy: 0.6875\n",
      "F1 Score: 0.6753\n",
      "AUC-ROC: 0.7453\n",
      "\n",
      "Validation Metrics:\n",
      "Accuracy: 0.5875\n",
      "F1 Score: 0.5926\n",
      "AUC-ROC: 0.5472\n",
      "[[23 17]\n",
      " [16 24]]\n"
     ]
    },
    {
     "data": {
      "image/png": "[encoded data removed]",
      "text/plain": [
       "<Figure size 640x480 with 2 Axes>"
      ]
     },
     "metadata": {},
     "output_type": "display_data"
    }
   ],
   "source": [
    "# Combine models in a voting classifier\n",
    "voting_ensemble = VotingClassifier(\n",
    "    estimators=[\n",
    "        ('random forest', best_rf_model),\n",
    "        ('gradient boosting', best_gb_model)\n",
    "    ],\n",
    "    voting='soft'  # Use 'soft' for averaging probabilities\n",
    ")\n",
    "\n",
    "# Perform cross-validation\n",
    "cv_results = cross_validate(\n",
    "    voting_ensemble,\n",
    "    X_train,\n",
    "    y_train,\n",
    "    cv=5,\n",
    "    scoring={\n",
    "        'accuracy': 'accuracy',\n",
    "        'f1': 'f1',\n",
    "        'roc_auc': 'roc_auc'\n",
    "    },\n",
    "    return_train_score=True,\n",
    "    n_jobs=-1\n",
    ")\n",
    "\n",
    "# Fit the voting ensemble on the entire training dataset\n",
    "voting_ensemble.fit(X_train, y_train)\n",
    "\n",
    "# --- Training Metrics ---\n",
    "y_train_pred = voting_ensemble.predict(X_train)\n",
    "y_train_prob = voting_ensemble.predict_proba(X_train)[:, 1]\n",
    "\n",
    "train_accuracy = accuracy_score(y_train, y_train_pred)\n",
    "train_f1 = f1_score(y_train, y_train_pred)\n",
    "train_auc_roc = roc_auc_score(y_train, y_train_prob)\n",
    "\n",
    "print(\"\\nTraining Metrics:\")\n",
    "print(f\"Accuracy: {train_accuracy:.4f}\")\n",
    "print(f\"F1 Score: {train_f1:.4f}\")\n",
    "print(f\"AUC-ROC: {train_auc_roc:.4f}\")\n",
    "\n",
    "# Obtain cross-validated predictions\n",
    "y_val_pred = cross_val_predict(voting_ensemble, X_train, y_train, cv=5)\n",
    "y_val_prob = cross_val_predict(voting_ensemble, X_train, y_train, cv=5, method='predict_proba')[:, 1]\n",
    "\n",
    "# Compute validation metrics\n",
    "val_accuracy = accuracy_score(y_train, y_val_pred)\n",
    "val_f1 = f1_score(y_train, y_val_pred)\n",
    "val_auc_roc = roc_auc_score(y_train, y_val_prob)\n",
    "\n",
    "print(\"\\nValidation Metrics:\")\n",
    "print(f\"Accuracy: {val_accuracy:.4f}\")\n",
    "print(f\"F1 Score: {val_f1:.4f}\")\n",
    "print(f\"AUC-ROC: {val_auc_roc:.4f}\")\n",
    "\n",
    "# Confusion Matrix\n",
    "cm = confusion_matrix(y_train, y_val_pred)\n",
    "print(cm)\n",
    "disp = ConfusionMatrixDisplay(confusion_matrix=cm, display_labels=['Deceptive', 'True'])\n",
    "disp.plot(cmap=\"Blues\")\n",
    "plt.title(\"Confusion Matrix - Voting Classifier (Cross-Validation)\")\n",
    "plt.show()\n"
   ]
  },
  {
   "cell_type": "markdown",
   "metadata": {},
   "source": [
    "### Soft Voting Ensemble Results and Analysis\n",
    "\n",
    "**Training Performance**\n",
    "\n",
    "**Accuracy: 0.6875**\n",
    "\n",
    "This indicates that the stacking ensemble correctly classified approximately 71.25% of the training data. While this is a reasonable accuracy, it is not perfect and leaves room for improvement.\n",
    "\n",
    "**F1 Score: 0.6753**\n",
    "\n",
    "The F1 score reflects a balance between precision and recall in the training set. A score of 0.6849 suggests that the model performs decently at managing the trade-off between false positives and false negatives but isn't overly skewed toward either precision or recall.\n",
    "\n",
    "**AUC-ROC: 0.7453**\n",
    "\n",
    "The AUC-ROC score indicates that the model can separate the classes reasonably well in the training data. A score of 0.7341 is moderate, showing that the model has a fair ability to rank true positives higher than false positives.\n",
    "\n",
    "**Validation Performance**\n",
    "\n",
    "**Accuracy: 0.5875**\n",
    "\n",
    "On the validation set, the stacking ensemble achieves 58.75% accuracy, lower than its training accuracy (0.7125). This drop might indicate some level of overfitting, where the model is more optimized for the training data and generalizes less effectively to unseen validation data.\n",
    "\n",
    "**F1 Score: 0.5926**\n",
    "\n",
    "The F1 score on the validation set is 0.5926, slightly lower than the training F1 score. This suggests that while the model maintains a balance between precision and recall, its generalization to unseen data is limited compared to its performance on the training set.\n",
    "\n",
    "**AUC-ROC: 0.5472**\n",
    "\n",
    "The AUC-ROC score on the validation set is 0.5472, significantly lower than the training AUC-ROC score. This indicates that the stacking ensemble struggles to rank predictions effectively in the validation set. Such a drop suggests overfitting or a lack of sufficient learning for generalization.\n",
    "\n",
    "**Confusion Matrix**\n",
    "\n",
    "The model performs reasonably well at identifying classes and is fairly balanced but still has room for improvement in reducing false positives and false negatives.\n",
    "\n",
    "**Overall Performance**\n",
    "\n",
    "The voting ensemble performs slightly better than the random forest and gradient boosting models but still shows signs of overfitting in all aspects due to its validation performance being noticeably lower than that of its training performance."
   ]
  },
  {
   "cell_type": "markdown",
   "metadata": {},
   "source": [
    "## Final Model Validation Metrics\n",
    "| Model                | Validation Accuracy | Validation F1 | Validation AUC-ROC | Overfitting Concern |\n",
    "|-----------------------|---------------------|---------------|---------------------|----------------------|\n",
    "| Logistic Regression   | 0.4625             | 0.5169        | 0.4744              | No                  |\n",
    "| SVM                   | 0.5875             | 0.6207        | 0.6006              | Moderate             |\n",
    "| Decision Tree         | 0.4875             | 0.5495        | 0.4766              | Moderate             |\n",
    "| KNN                   | 0.6125             | 0.6437        | 0.6206              | Yes (overfits)       |\n",
    "| Random Forest         | 0.5500             | 0.5610        | 0.5103              | No                  |\n",
    "| Gradient Boosting     | 0.5625             | 0.5679        | 0.5497              | No                  |\n",
    "| Stacking Ensemble     | **0.6625**         | **0.6667**    | **0.5825**          | Yes (overfits)       |\n",
    "| Voting Ensemble       | 0.5875             | 0.5926        | 0.5472              | Moderate             |\n",
    "\n",
    "Based on these metrics and prioritizing validation accuracy, the stacking ensemble seems to perform better than other models despite it being overfitting. As such, it will be chosen as the final model to test. The next option would be to use SVM, as the concern of overfitting is moderate compared to the stacking ensemble whilst maintaining an above average validation accuracy, F1 score, and AUC-ROC. Using kNN might yield similar results to the stacking ensemble as the ensemble consists of kNN and SVM, and its training and validation metrics are very similar."
   ]
  },
  {
   "cell_type": "markdown",
   "metadata": {},
   "source": [
    "## Testing"
   ]
  },
  {
   "cell_type": "code",
   "execution_count": 191,
   "metadata": {},
   "outputs": [
    {
     "name": "stdout",
     "output_type": "stream",
     "text": [
      "\n",
      "--- Stacking Ensemble Test Results ---\n",
      "Accuracy: 0.4000\n",
      "F1 Score: 0.4545\n",
      "AUC-ROC: 0.3700\n",
      "[[3 7]\n",
      " [5 5]]\n"
     ]
    },
    {
     "data": {
      "image/png": "[encoded data removed]",
      "text/plain": [
       "<Figure size 640x480 with 2 Axes>"
      ]
     },
     "metadata": {},
     "output_type": "display_data"
    }
   ],
   "source": [
    "# Load the test features\n",
    "test_features_df = pd.read_csv(\"test_features.csv\")\n",
    "\n",
    "# Extract features (X) and labels (y) for the test set\n",
    "X_test = test_features_df[['Power', 'Pitch_Mean', 'Pitch_Std', 'Voiced_Ratio']].values\n",
    "y_test = test_features_df['Label'].values\n",
    "\n",
    "scaler = StandardScaler()\n",
    "X_train_scaled = scaler.fit_transform(X_train)  # Fit on training data\n",
    "X_test_scaled = scaler.transform(X_test)       # Transform test data\n",
    "\n",
    "# Predict on the test set using the stacking ensemble model\n",
    "y_test_pred = stacking_ensemble.predict(X_test_scaled)\n",
    "y_test_prob = stacking_ensemble.predict_proba(X_test_scaled)[:, 1]\n",
    "\n",
    "# Calculate test metrics\n",
    "test_accuracy = accuracy_score(y_test, y_test_pred)\n",
    "test_f1 = f1_score(y_test, y_test_pred)\n",
    "test_auc_roc = roc_auc_score(y_test, y_test_prob)\n",
    "\n",
    "# Print metrics\n",
    "print(\"\\n--- Stacking Ensemble Test Results ---\")\n",
    "print(f\"Accuracy: {test_accuracy:.4f}\")\n",
    "print(f\"F1 Score: {test_f1:.4f}\")\n",
    "print(f\"AUC-ROC: {test_auc_roc:.4f}\")\n",
    "\n",
    "# Confusion Matrix\n",
    "cm = confusion_matrix(y_test, y_test_pred)\n",
    "print(cm)\n",
    "disp = ConfusionMatrixDisplay(confusion_matrix=cm, display_labels=['Deceptive', 'True'])\n",
    "disp.plot(cmap=\"Blues\")\n",
    "plt.title(\"Confusion Matrix - Stacking Ensemble (Test Set)\")\n",
    "plt.show()\n"
   ]
  },
  {
   "cell_type": "markdown",
   "metadata": {},
   "source": [
    "## Stacking Ensemble Test Results and Analysis\n",
    "\n",
    "**Test Performance:**\n",
    "\n",
    "**Accuracy (0.4000):**\n",
    "The stacking ensemble correctly classified only 40% of the test samples. This indicates poor overall predictive performance on the unseen test set.\n",
    "\n",
    "**F1 Score (0.4545):**\n",
    "\n",
    "The F1 score balances precision and recall, and a value of 0.4545 suggests the model struggles to maintain a good trade-off between false positives and false negatives.\n",
    "\n",
    "**AUC-ROC (0.3700):**\n",
    "\n",
    "The AUC-ROC score is below 0.5, indicating that the model is performing worse than random guessing when ranking probabilities for the positive class.\n",
    "\n",
    "**Confusion Matrix**\n",
    "\n",
    "The confusion matrix indicates that the model produces more false positives than true positives, showing a tendency to incorrectly classify true stories as deceptive. The number of false positives and negatives also exceeds the number of true positives and true negatives, suggesting poor overall classification performance.\n",
    "\n",
    "**Overall Performance**\n",
    "\n",
    "The test metrics indicate that the stacking ensemble struggles with generalization on the test data despite showing better performance during training and validation. Moreover, the confusion matrix reveals a significant number of misclassifications. The AUC-ROC score also highlights this as the model is unable to rank predictions correctly and is performing worse than random chance (0.5)."
   ]
  },
  {
   "cell_type": "markdown",
   "metadata": {
    "id": "nz2lDRltU72Q"
   },
   "source": [
    "## 7 Conclusions"
   ]
  },
  {
   "cell_type": "markdown",
   "metadata": {
    "id": "2wbCVRNDU9PV"
   },
   "source": [
    "This notebook aimed to build and evaluate machine learning models for classifying true and deceptive stories from the MLEnd Deception Dataset. The primary focus was on extracting meaningful features from audio data, evaluating the performance of multiple models, and experimenting with ensemble methods to improve classification accuracy.\n",
    "\n",
    "**Things to Note:**\n",
    "\n",
    "**Feature Extraction:**\n",
    "\n",
    "The extracted features (Power, Pitch_Mean, Pitch_Std, and Voiced_Ratio) provided some predictive power but may not have fully captured the complexity of the task.\n",
    "The limited feature set likely contributed to the overall modest performance of all models.\n",
    "\n",
    "**Individual Models:**\n",
    "\n",
    "Among individual models, K-Nearest Neighbors (KNN) and Support Vector Machines (SVM) showed relatively strong performance in validation metrics, with KNN achieving the highest validation accuracy (0.6125).\n",
    "\n",
    "Decision trees and logistic regression performed less effectively, with noticeable drops in validation performance compared to their training metrics, indicating overfitting or insufficient feature representation.\n",
    "\n",
    "**Ensemble Methods:**\n",
    "\n",
    "Stacking and Voting ensembles were implemented to leverage the strengths of multiple models:\n",
    "The Stacking Ensemble, combining KNN and SVM with a logistic regression meta-model, achieved the best validation metrics (Accuracy: 0.6625, F1 Score: 0.6667) even though it showed clear signs of overfitting with perfect training metrics.\n",
    "\n",
    "The Voting Ensemble combining Gradient Boosting and Random Forest models demonstrated comparable validation performance but fell short of the stacking ensemble.\n",
    "Ensemble methods generally outperformed individual models in validation metrics, emphasizing the benefit of combining multiple classifiers to a certain degree.\n",
    "\n",
    "**Testing Performance:**\n",
    "\n",
    "When applied to the unseen test set, the stacking ensemble achieved **Accuracy: 0.4000**, **F1 Score: 0.4545**, and an **AUC-ROC: 0.3700**. This significant drop from validation performance suggests that the models struggled to generalize, possibly due to:\n",
    "- Overfitting during training.\n",
    "- Insufficiently discriminative features.\n",
    "- Limited dataset size or inherent noise in the data.\n",
    "\n",
    "**Limitations Identified:**\n",
    "\n",
    "The dataset size was relatively small, potentially limiting the models' ability to learn complex patterns and generalize to unseen data.\n",
    "Feature extraction from 30-second audio clips may not have fully captured the nuances needed to distinguish between classes while\n",
    "computational and time constraints limited the exploration of deeper or more complex models (e.g., neural networks). Furthermore, the audio recordings present in the sample include recordings in different languages, which introduces several variability and potential biases. For example, different languages have different prosodic and phonetic structures, influencing features like pitch, tone, and stress. The ratio of English to other languages is also very unbalanced (78 to 22). As such, the model may not generalize well to other languages, leading to linguistically biased results.\n",
    "\n",
    "**Implications and Recommendations:**\n",
    "\n",
    "**Feature Improvements:**\n",
    "\n",
    "Additional audio features may be incorporated, such as spectral features (e.g., Mel-frequency cepstral coefficients), energy dynamics, or linguistic features derived from transcription.\n",
    "\n",
    "**Model Selection:**\n",
    "\n",
    "While the stacking ensemble provided the best overall validation performance, its generalization ability remains a concern. Exploring simpler models with better regularization may yield more robust results.\n",
    "\n",
    "**Incorporating Multilingual Data:**\n",
    "\n",
    "Use multilingual pre-trained models (like wav2vec or HuBERT) that can handle cross-linguistic variability in audio data.\n",
    "\n",
    "**Data Augmentation:**\n",
    "\n",
    "Use data augmentation techniques to increase the effective size of the dataset and reduce overfitting.\n",
    "\n",
    "**Experimentation with Deep Learning:**\n",
    "\n",
    "Neural networks, particularly those tailored for audio data (e.g., Convolutional Neural Networks or Recurrent Neural Networks), may better capture complex patterns inherent in the audio clips.\n",
    "\n",
    "**Conclusion:**\n",
    "\n",
    "This notebook demonstrated the utility of various machine learning and ensemble methods for classifying true and deceptive stories. While ensemble methods like stacking showed promise, the results highlighted significant challenges in feature representation and model generalization. Future efforts should focus on improving feature extraction, addressing data limitations, and experimenting with advanced models to achieve better performance and reliability in deception detection tasks."
   ]
  },
  {
   "cell_type": "markdown",
   "metadata": {
    "id": "S8OWNumJU9Sy"
   },
   "source": [
    "## 8 References"
   ]
  },
  {
   "cell_type": "markdown",
   "metadata": {
    "id": "7T3ZOuN1U_fA"
   },
   "source": [
    "Villar, G., Arciuli, J., & Paterson, H. (2013). Vocal pitch production during lying: Beliefs about deception matter. Psychiatry, Psychology and Law, 20(1), 123-132.\n",
    "\n",
    "Benus, S., Enos, F., Hirschberg, J. B., & Shriberg, E. (2006). Pauses in deceptive speech.\n",
    "\n",
    "Rockwell, P., Buller, D. B., & Burgoon, J. K. (1997). The voice of deceit: Refining and expanding vocal cues to deception. Communication Research Reports, 14(4), 451-459.\n",
    "\n",
    "https://scikit-learn.org/stable/modules/linear_model.html#logistic-regression\n",
    "\n",
    "https://scikit-learn.org/stable/modules/svm.html\n",
    "\n",
    "https://scikit-learn.org/1.5/modules/generated/sklearn.tree.DecisionTreeClassifier.html\n",
    "\n",
    "https://scikit-learn.org/1.5/modules/generated/sklearn.neighbors.KNeighborsClassifier.html\n",
    "\n",
    "https://scikit-learn.org/1.5/modules/generated/sklearn.ensemble.RandomForestClassifier.html\n",
    "\n",
    "https://scikit-learn.org/1.5/modules/generated/sklearn.ensemble.GradientBoostingClassifier.html\n",
    "\n",
    "https://scikit-learn.org/1.5/modules/generated/sklearn.ensemble.StackingClassifier.html\n",
    "\n",
    "https://scikit-learn.org/1.5/modules/generated/sklearn.ensemble.VotingClassifier.html\n"
   ]
  }
 ],
 "metadata": {
  "colab": {
   "authorship_tag": "ABX9TyOPdv7r7iib1hqEbjP/ighs",
   "provenance": []
  },
  "kernelspec": {
   "display_name": "Python 3 (ipykernel)",
   "language": "python",
   "name": "python3"
  },
  "language_info": {
   "codemirror_mode": {
    "name": "ipython",
    "version": 3
   },
   "file_extension": ".py",
   "mimetype": "text/x-python",
   "name": "python",
   "nbconvert_exporter": "python",
   "pygments_lexer": "ipython3",
   "version": "3.12.4"
  }
 },
 "nbformat": 4,
 "nbformat_minor": 4
}
